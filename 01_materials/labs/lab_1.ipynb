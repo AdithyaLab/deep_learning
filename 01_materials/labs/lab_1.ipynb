{
 "cells": [
  {
   "cell_type": "markdown",
   "metadata": {},
   "source": [
    "# Training Neural Networks with Keras\n",
    "\n",
    "Welcome to the first practical session of the course! In this session, we will learn how to train neural networks with Keras. We will start with a simple example of a feedforward neural network for classification and then we will study the impact of the initialization of the weights on the convergence of the training algorithm.\n",
    "\n",
    "Keras is a high-level neural network API, built on top of TensorFlow 2.0. It provides a user-friendly interface to build, train and deploy deep learning models. Keras is designed to be modular, fast and easy to use.\n",
    "\n",
    "Throughout this course, we will focus on using Keras and TensorFlow for building and training neural networks. However, there are other popular deep learning frameworks such as PyTorch, MXNet, CNTK, etc. that you can also use to build and train neural networks.\n",
    "\n",
    "In order to use our code on Google Colab, we will need to ensure that any required packages are installed. We will use the following packages in this session:\n",
    "\n",
    "- `tensorflow`: an open-source library for numerical computation and large-scale machine learning.\n",
    "- `matplotlib`: a plotting library for the Python programming language and its numerical mathematics extension NumPy.\n",
    "- `numpy`: a library for scientific computing in Python.\n",
    "- `scikit-learn`: a machine learning library for the Python programming language.\n",
    "- `pandas`: a library providing high-performance, easy-to-use data structures and data analysis tools for the Python programming language.\n",
    "\n",
    "The following cell will check if the packages are installed, and if not, it will install them. Students familiar with how pip works might note that it already checks this before installing! The reason for this code (which will also appear in subsequent notebooks) is to speed up execution if you re-run the entire notebook - it will skip the installation step if the packages are already installed."
   ]
  },
  {
   "cell_type": "markdown",
   "metadata": {
    "collapsed": false
   },
   "source": [
    "With the packages installed, we can now get started on the practical session!\n",
    "\n",
    "Today, we will be working with the famous MNIST dataset. MNIST (Modified National Institute of Standards and Technology) is a database of low resolution images of handwritten digits. The history here is interesting - the dataset was originally created in the 1980s, when researchers from the aforementioned institute collected samples from American Census Bureau employees and high school students. The dataset was then modified in the 1990s (hence the M in MNIST), and has since become a popular benchmark for machine learning algorithms. \n",
    "\n",
    "The dataset contains images, each of which is a 28x28 grayscale image of a handwritten digit. The goal is to classify each image into one of the 10 possible classes (0-9).\n",
    "\n",
    "![MNIST](https://upload.wikimedia.org/wikipedia/commons/2/27/MnistExamples.png)\n",
    "\n",
    "The Scikit-Learn library provides a convenient function to download and load the MNIST dataset. The following cell will download the dataset. Then we will take a look at the shape of the data."
   ]
  },
  {
   "cell_type": "code",
   "execution_count": 95,
   "metadata": {},
   "outputs": [],
   "source": [
    "import matplotlib.pyplot as plt\n",
    "import numpy as np\n",
    "\n",
    "from sklearn.datasets import load_digits\n",
    "\n",
    "digits = load_digits()"
   ]
  },
  {
   "cell_type": "code",
   "execution_count": 96,
   "metadata": {},
   "outputs": [
    {
     "data": {
      "text/plain": [
       "(1797, 8, 8)"
      ]
     },
     "execution_count": 96,
     "metadata": {},
     "output_type": "execute_result"
    }
   ],
   "source": [
    "digits.images.shape"
   ]
  },
  {
   "cell_type": "markdown",
   "metadata": {
    "collapsed": false
   },
   "source": [
    "This means that we have 1797 images, each of which is a 8x8 image. For basic image processing, we will need to flatten the images into a 1D array. In this case, Scikit-Learn has already provided the data in this format too:"
   ]
  },
  {
   "cell_type": "code",
   "execution_count": 97,
   "metadata": {},
   "outputs": [
    {
     "data": {
      "text/plain": [
       "(1797, 64)"
      ]
     },
     "execution_count": 97,
     "metadata": {},
     "output_type": "execute_result"
    }
   ],
   "source": [
    "digits.data.shape"
   ]
  },
  {
   "cell_type": "markdown",
   "metadata": {
    "collapsed": false
   },
   "source": [
    "For each image, we also have the corresponding label (or target, or class) in `digits.target`:"
   ]
  },
  {
   "cell_type": "code",
   "execution_count": 98,
   "metadata": {},
   "outputs": [
    {
     "data": {
      "text/plain": [
       "(1797,)"
      ]
     },
     "execution_count": 98,
     "metadata": {},
     "output_type": "execute_result"
    }
   ],
   "source": [
    "digits.target.shape"
   ]
  },
  {
   "cell_type": "markdown",
   "metadata": {
    "collapsed": false
   },
   "source": [
    "We can take a look at some random images from the dataset. The following cell will select 9 random images and plot them in a 3x3 grid (meaning that you can rerun the cell to see different images)."
   ]
  },
  {
   "cell_type": "code",
   "execution_count": 99,
   "metadata": {},
   "outputs": [
    {
     "data": {
      "image/png": "[encoded data removed]",
      "text/plain": [
       "<Figure size 600x600 with 9 Axes>"
      ]
     },
     "metadata": {},
     "output_type": "display_data"
    }
   ],
   "source": [
    "# Selecting 9 random indices\n",
    "random_indices = np.random.choice(len(digits.images), 9, replace=False)\n",
    "\n",
    "# Creating a 3x3 grid plot\n",
    "fig, axes = plt.subplots(3, 3, figsize=(6, 6))\n",
    "\n",
    "for i, ax in enumerate(axes.flat):\n",
    "    ax.imshow(digits.images[random_indices[i]], cmap=plt.cm.gray_r, interpolation='nearest')\n",
    "    ax.set_title(f\"Label: {digits.target[random_indices[i]]}\")\n",
    "\n",
    "    # Removing axis labels\n",
    "    ax.set_xticks([])\n",
    "    ax.set_yticks([])\n",
    "\n",
    "plt.show()"
   ]
  },
  {
   "cell_type": "markdown",
   "metadata": {
    "collapsed": false
   },
   "source": [
    "As you can see, these images are very low resolution. This is because they were originally scanned from paper forms, and then scaled down to 8x8 pixels. This is a common problem in machine learning - the quality of the data is often a limiting factor in the performance of the model. In this case, the low resolution of the images makes it difficult to distinguish between some digits, even for humans. For example, the following images are all labelled as 9, but they look very different:"
   ]
  },
  {
   "cell_type": "code",
   "execution_count": 100,
   "metadata": {
    "collapsed": false
   },
   "outputs": [
    {
     "data": {
      "image/png": "[encoded data removed]",
      "text/plain": [
       "<Figure size 600x600 with 9 Axes>"
      ]
     },
     "metadata": {},
     "output_type": "display_data"
    }
   ],
   "source": [
    "# Selecting 9 random indices of images labelled as 9\n",
    "random_indices = np.random.choice(np.where(digits.target == 9)[0], 9, replace=False)\n",
    "\n",
    "# Creating a 3x3 grid plot\n",
    "fig, axes = plt.subplots(3, 3, figsize=(6, 6))\n",
    "\n",
    "for i, ax in enumerate(axes.flat):\n",
    "    ax.imshow(digits.images[random_indices[i]], cmap=plt.cm.gray_r, interpolation='nearest')\n",
    "    ax.set_title(f\"Label: {digits.target[random_indices[i]]}\")\n",
    "\n",
    "    # Removing axis labels\n",
    "    ax.set_xticks([])\n",
    "    ax.set_yticks([])\n",
    "    \n",
    "plt.show()"
   ]
  },
  {
   "cell_type": "markdown",
   "metadata": {
    "collapsed": false
   },
   "source": [
    "While we are plotting the samples as images, remember that our model is only going to see a 1D array of numbers. "
   ]
  },
  {
   "cell_type": "markdown",
   "metadata": {},
   "source": [
    "## Train / Test Split\n",
    "\n",
    "In order to understand how well our model performs on _new_ data, we need to split our dataset into a training set and a test set. The training set will be used to train the model, and the test set will be used to evaluate the performance of the model.\n",
    "\n",
    "Let's keep some held-out data to be able to measure the generalization performance of our model. "
   ]
  },
  {
   "cell_type": "code",
   "execution_count": 101,
   "metadata": {},
   "outputs": [],
   "source": [
    "from sklearn.model_selection import train_test_split\n",
    "\n",
    "\n",
    "X_train, X_test, y_train, y_test = train_test_split(\n",
    "    digits.data, \n",
    "    digits.target,\n",
    "    test_size=0.2, # 20% of the data is used for testing\n",
    "    random_state=42 # Providing a value here means getting the same \"random\" split every time\n",
    ")"
   ]
  },
  {
   "cell_type": "markdown",
   "metadata": {
    "collapsed": false
   },
   "source": [
    "Let's confirm that the data has been split correctly:"
   ]
  },
  {
   "cell_type": "code",
   "execution_count": 102,
   "metadata": {
    "collapsed": false
   },
   "outputs": [
    {
     "name": "stdout",
     "output_type": "stream",
     "text": [
      "X_train shape: (1437, 64)\n",
      "y_train shape: (1437,)\n",
      "X_test shape: (360, 64)\n",
      "y_test shape: (360,)\n"
     ]
    }
   ],
   "source": [
    "print(f'X_train shape: {X_train.shape}')\n",
    "print(f'y_train shape: {y_train.shape}')\n",
    "print(f'X_test shape: {X_test.shape}')\n",
    "print(f'y_test shape: {y_test.shape}')"
   ]
  },
  {
   "cell_type": "markdown",
   "metadata": {
    "collapsed": false
   },
   "source": [
    "This is what we expected to see. It's always good to check as you go, to make sure that you haven't made a mistake somewhere - this is something that working in a notebook like this makes it easy to do."
   ]
  },
  {
   "cell_type": "markdown",
   "metadata": {},
   "source": [
    "## Preprocessing of the Target Data\n",
    "\n",
    "The labels that we have are integers between 0 and 9. However, we want to train a neural network to classify the images into one of 10 classes. It can be a little counter-intuitive because we are dealing with numbers, but our classes are not ordinal.\n",
    "\n",
    "What do we mean by that? Let's imagine we were trying to predict the height of a building (separated into classes) from images. If a given building was actually 10m tall, and our model predicted 9m, we would consider that to be a better prediction than if it predicted 1m. This is because the classes are ordinal - there is meaning in the difference between the classes.\n",
    "\n",
    "In our case, even though we are dealing with numbers, the classes are not ordinal. If a given image is actually a 9, and our model predicts 8, we would consider that to be just as bad as if it predicted 1. This is because the classes are not ordered, and the difference between the classes is not meaningful.\n",
    "\n",
    "Because of this, we need to convert our labels from an integer value into a one-hot encoded vector. This means that each label will be represented as a vector of length 10, with a 1 in the position corresponding to the class, and 0s everywhere else. For example, the label 9 would be represented as `[0, 0, 0, 0, 0, 0, 0, 0, 0, 1]`. This is a common way of representing categorical data in machine learning. By doing this, we ensure that our model is taught the correct relationship between the classes."
   ]
  },
  {
   "cell_type": "code",
   "execution_count": 103,
   "metadata": {},
   "outputs": [
    {
     "name": "stdout",
     "output_type": "stream",
     "text": [
      "Before one-hot encoding: 6\n",
      "After one-hot encoding: [0. 0. 0. 0. 0. 0. 1. 0. 0. 0.]\n"
     ]
    }
   ],
   "source": [
    "from tensorflow.keras.utils import to_categorical\n",
    "\n",
    "print(f'Before one-hot encoding: {y_train[0]}')\n",
    "y_train = to_categorical(y_train, num_classes=10)\n",
    "y_test = to_categorical(y_test, num_classes=10)\n",
    "print(f'After one-hot encoding: {y_train[0]}')"
   ]
  },
  {
   "cell_type": "markdown",
   "metadata": {},
   "source": [
    "## Feed Forward Neural Networks with Keras\n",
    "\n",
    "Now that we have prepared our data, it's time to build a simple neural network! In this section, we will use the Keras API to build a simple feed forward neural network. We will then train the model on the MNIST dataset, and evaluate its performance on the test set.\n",
    "\n",
    "In most modern deep learning frameworks, the process of building a model can be broken down into a few steps:\n",
    "\n",
    "- Define the model architecture: this is where we define the layers of the model, and how they are connected to each other.\n",
    "- Compile the model: this is where we define the loss function, the optimizer, and the metrics that we want to use to evaluate the model.\n",
    "- Train the model: this is where we train the model on the training data.\n",
    "\n",
    "Let's start with defining the model architecture. There are two ways to do this in Keras - the Sequential API and the Functional API. The Sequential API is the simplest way to build a model, and is suitable for most use cases. The Functional API is more flexible, and allows you to build more complex models. We will start with the Sequential API, and then we will look at the Functional API later in the course.\n",
    "\n",
    "Our simple neural network will be \"fully-connected\". This means that each neuron in a given layer is connected to every neuron in the next layer. This is also known as a \"dense\" layer. We will use the `Dense` class from Keras to define our layers."
   ]
  },
  {
   "cell_type": "code",
   "execution_count": 104,
   "metadata": {
    "collapsed": false
   },
   "outputs": [
    {
     "name": "stdout",
     "output_type": "stream",
     "text": [
      "Model: \"sequential_24\"\n",
      "_________________________________________________________________\n",
      " Layer (type)                Output Shape              Param #   \n",
      "=================================================================\n",
      " dense_73 (Dense)            (None, 64)                4160      \n",
      "                                                                 \n",
      " dense_74 (Dense)            (None, 64)                4160      \n",
      "                                                                 \n",
      " dense_75 (Dense)            (None, 10)                650       \n",
      "                                                                 \n"
     ]
    },
    {
     "name": "stdout",
     "output_type": "stream",
     "text": [
      "=================================================================\n",
      "Total params: 8,970\n",
      "Trainable params: 8,970\n",
      "Non-trainable params: 0\n",
      "_________________________________________________________________\n"
     ]
    }
   ],
   "source": [
    "from tensorflow.keras.models import Sequential\n",
    "from tensorflow.keras.layers import Dense\n",
    "\n",
    "model = Sequential()\n",
    "\n",
    "# Input layer\n",
    "model.add(Dense(64, activation='relu', input_shape=(64,))) # 64 neurons, ReLU activation, input shape of 64\n",
    "\n",
    "# Hidden layer\n",
    "model.add(Dense(64, activation='relu')) # 64 neurons, ReLU activation\n",
    "\n",
    "# Output layer\n",
    "model.add(Dense(10, activation='softmax')) # 10 neurons, softmax activation\n",
    "\n",
    "model.summary()"
   ]
  },
  {
   "cell_type": "markdown",
   "metadata": {
    "collapsed": false
   },
   "source": [
    "Congratulations! You have just built your first neural network with Keras. As we can confirm from the `model.summary()` output, our model has 3 layers. The first layer has 64 neurons, the second layer has 64 neurons, and the output layer has 10 neurons. The output layer uses the softmax activation function, which is commonly used for multi-class classification problems. The other layers use the ReLU activation function, which is commonly used for hidden layers in neural networks.\n",
    "\n",
    "Next, we need to compile the model. This is where we define the loss function, the optimizer, and the metrics that we want to use to evaluate the model. We will use the `compile` method of the model to do this."
   ]
  },
  {
   "cell_type": "code",
   "execution_count": 105,
   "metadata": {
    "collapsed": false
   },
   "outputs": [],
   "source": [
    "model.compile(\n",
    "    loss='categorical_crossentropy', # Loss function\n",
    "    optimizer='sgd', # Optimizer\n",
    "    metrics=['accuracy'] # Metrics to evaluate the model\n",
    ")"
   ]
  },
  {
   "cell_type": "markdown",
   "metadata": {
    "collapsed": false
   },
   "source": [
    "Because we are predicting which class a sample belongs to, we will use the `categorical_crossentropy` function. This loss function is commonly used for multi-class classification problems. \n",
    "\n",
    "For our optimizer, we are using the standard stochastic gradient descent (SGD) algorithm. This is a simple optimizer that works well for many problems. We will look at more advanced optimizers later in the course.\n",
    "\n",
    "Finally, we are using the `accuracy` metric to evaluate the model. This is a common metric for classification problems, and it is simply the fraction of samples that are correctly classified. This is an easier metric for us to understand, but it's not quite as useful for actually training the model (for example, it doesn't tell us how \"confident\" the model is in its predictions).\n",
    "\n",
    "Now that we have (a) defined the model architecture and (b) compiled the model, we are ready to train the model. We will use the `fit` method of the model to do this."
   ]
  },
  {
   "cell_type": "code",
   "execution_count": 106,
   "metadata": {
    "collapsed": false
   },
   "outputs": [
    {
     "name": "stdout",
     "output_type": "stream",
     "text": [
      "Epoch 1/15\n",
      "36/36 [==============================] - 1s 8ms/step - loss: 1.8250 - accuracy: 0.5152 - val_loss: 0.8100 - val_accuracy: 0.7500\n",
      "Epoch 2/15\n",
      "36/36 [==============================] - 0s 2ms/step - loss: 0.5633 - accuracy: 0.8320 - val_loss: 0.4795 - val_accuracy: 0.8403\n",
      "Epoch 3/15\n",
      "36/36 [==============================] - 0s 2ms/step - loss: 0.3387 - accuracy: 0.9017 - val_loss: 0.3620 - val_accuracy: 0.8819\n",
      "Epoch 4/15\n",
      "36/36 [==============================] - 0s 2ms/step - loss: 0.2471 - accuracy: 0.9260 - val_loss: 0.3190 - val_accuracy: 0.8819\n",
      "Epoch 5/15\n",
      "36/36 [==============================] - 0s 2ms/step - loss: 0.2006 - accuracy: 0.9399 - val_loss: 0.2708 - val_accuracy: 0.8924\n",
      "Epoch 6/15\n",
      "36/36 [==============================] - 0s 2ms/step - loss: 0.1728 - accuracy: 0.9504 - val_loss: 0.2818 - val_accuracy: 0.8924\n",
      "Epoch 7/15\n",
      "36/36 [==============================] - 0s 2ms/step - loss: 0.1429 - accuracy: 0.9530 - val_loss: 0.2259 - val_accuracy: 0.9201\n",
      "Epoch 8/15\n",
      "36/36 [==============================] - 0s 2ms/step - loss: 0.1277 - accuracy: 0.9608 - val_loss: 0.2360 - val_accuracy: 0.8993\n",
      "Epoch 9/15\n",
      "36/36 [==============================] - 0s 2ms/step - loss: 0.1054 - accuracy: 0.9782 - val_loss: 0.2001 - val_accuracy: 0.9201\n",
      "Epoch 10/15\n",
      "36/36 [==============================] - 0s 2ms/step - loss: 0.0965 - accuracy: 0.9835 - val_loss: 0.1966 - val_accuracy: 0.9167\n",
      "Epoch 11/15\n",
      "36/36 [==============================] - 0s 2ms/step - loss: 0.0838 - accuracy: 0.9835 - val_loss: 0.1994 - val_accuracy: 0.9132\n",
      "Epoch 12/15\n",
      "36/36 [==============================] - 0s 2ms/step - loss: 0.0787 - accuracy: 0.9852 - val_loss: 0.1925 - val_accuracy: 0.9236\n",
      "Epoch 13/15\n",
      "36/36 [==============================] - 0s 2ms/step - loss: 0.0696 - accuracy: 0.9835 - val_loss: 0.1951 - val_accuracy: 0.9306\n",
      "Epoch 14/15\n",
      "36/36 [==============================] - 0s 2ms/step - loss: 0.0644 - accuracy: 0.9869 - val_loss: 0.1826 - val_accuracy: 0.9201\n",
      "Epoch 15/15\n",
      "36/36 [==============================] - 0s 2ms/step - loss: 0.0627 - accuracy: 0.9904 - val_loss: 0.1827 - val_accuracy: 0.9236\n"
     ]
    },
    {
     "data": {
      "text/plain": [
       "<keras.callbacks.History at 0x2e3a8ff81f0>"
      ]
     },
     "execution_count": 106,
     "metadata": {},
     "output_type": "execute_result"
    }
   ],
   "source": [
    "model.fit(\n",
    "    X_train, # Training data\n",
    "    y_train, # Training labels\n",
    "    epochs=15, # Number of epochs\n",
    "    batch_size=32, # Number of samples per batch\n",
    "    validation_split=0.2 # Use 20% of the data for validation\n",
    ")"
   ]
  },
  {
   "cell_type": "markdown",
   "metadata": {
    "collapsed": false
   },
   "source": [
    "We have now trained our model! We can see that the model has been trained for 5 epochs, and the loss and accuracy have been printed for each epoch. We can also see that the model has been evaluated on the validation data at the end of each epoch. This is useful for us to see how the model is performing on data that it hasn't seen during training.\n",
    "\n",
    "Once the model is trained, it's time to evaluate the model on the test set. We can use the `evaluate` method of the model to do this. If you were building a model for a real-world application, this is the very last thing you would do, and the result here would be the figure you'd report in your paper or presentation."
   ]
  },
  {
   "cell_type": "code",
   "execution_count": 107,
   "metadata": {
    "collapsed": false
   },
   "outputs": [
    {
     "name": "stdout",
     "output_type": "stream",
     "text": [
      "12/12 [==============================] - 0s 1ms/step - loss: 0.1426 - accuracy: 0.9583\n",
      "Loss:     0.14\n",
      "Accuracy: 95.83%\n"
     ]
    }
   ],
   "source": [
    "loss, accuracy = model.evaluate(X_test, y_test)\n",
    "\n",
    "print(f'Loss:     {loss:.2f}')\n",
    "print(f'Accuracy: {accuracy*100:.2f}%')"
   ]
  },
  {
   "cell_type": "markdown",
   "metadata": {
    "collapsed": false
   },
   "source": [
    "Hopefully you have achieved an accuracy of around 95%. This is pretty good, but we can do better! In the next section, we will look at how we can improve the performance of our model by using a more advanced optimizer. But before we get there, let's do one other thing - let's look at the predictions that our model is making on the test set. When you are building a model, it's often useful to have a look at some of the examples your model is getting wrong. Sometimes this can reveal problems with the data, or it can give you ideas for how to improve your model."
   ]
  },
  {
   "cell_type": "code",
   "execution_count": 108,
   "metadata": {
    "collapsed": false
   },
   "outputs": [
    {
     "name": "stdout",
     "output_type": "stream",
     "text": [
      "12/12 [==============================] - 0s 1ms/step\n"
     ]
    },
    {
     "data": {
      "image/png": "[encoded data removed]",
      "text/plain": [
       "<Figure size 600x600 with 9 Axes>"
      ]
     },
     "metadata": {},
     "output_type": "display_data"
    }
   ],
   "source": [
    "# Get the predictions for the test data\n",
    "predictions = model.predict(X_test)\n",
    "\n",
    "# Get the index of the largest probability (i.e. the predicted class)\n",
    "predicted_classes = np.argmax(predictions, axis=1)\n",
    "true_classes = np.argmax(y_test, axis=1)\n",
    "misclassified_indices = np.where(predicted_classes != true_classes)[0]\n",
    "\n",
    "# Get the misclassified samples themselves\n",
    "misclassified_samples = X_test[misclassified_indices]\n",
    "misclassified_labels = np.argmax(y_test[misclassified_indices], axis=1)\n",
    "\n",
    "# Pick 9 random misclassified samples\n",
    "random_indices = np.random.choice(len(misclassified_indices), 9, replace=False)\n",
    "\n",
    "fig, axes = plt.subplots(3, 3, figsize=(6, 6))\n",
    "for i, ax in enumerate(axes.flat):\n",
    "    ax.imshow(misclassified_samples[random_indices[i]].reshape(8, 8), cmap=plt.cm.gray_r, interpolation='nearest')\n",
    "    ax.set_title(f\"Pred: {predicted_classes[misclassified_indices[random_indices[i]]]}, Real: {misclassified_labels[random_indices[i]]}\")\n",
    "\n",
    "    # Removing axis labels\n",
    "    ax.set_xticks([])\n",
    "    ax.set_yticks([])\n",
    "    \n",
    "plt.show()"
   ]
  },
  {
   "cell_type": "markdown",
   "metadata": {
    "collapsed": false
   },
   "source": [
    "What do you think? Would you have made the same mistakes as the model? Determining whether the mistakes are \"understandable\" is a rough way of seeing if you could improve the model further, or if this is the best you can do with the data you have."
   ]
  },
  {
   "cell_type": "markdown",
   "metadata": {},
   "source": [
    "### b) Exercises: Impact of the Optimizer\n",
    "\n",
    "In this section, you will play around with the optimizer and see how it affects the performance of the model. We will start with the standard SGD optimizer, and then we will look at more advanced optimizers.\n",
    "\n",
    "1. Try decreasing the learning rate of the SGD optimizer by a factor of 10, or 100. What do you observe?\n",
    "\n",
    "Lower learning rate gives better accuracy but training is slower.\n",
    "\n",
    "2. Try increasing the learning rate of the SGD optimizer. What happens?\n",
    "\n",
    "Higher learning rate makes training fast but may overshoot optimum, so higher losses.\n",
    "\n",
    "3. The SGD optimizer has a momentum parameter. In a nutshell, this parameter controls how much the gradient from the previous step affects the current step. Try enabling momentum in the SGD optimizer with a value of 0.9. What happens?\n",
    "\n",
    "Momentum smoothens oscillations so accelerates training. Accuracy is improved\n",
    "  \n",
    "**Notes**: \n",
    "\n",
    "The keras API documentation is available at:\n",
    "\n",
    "https://www.tensorflow.org/api_docs/python/tf/keras\n",
    "\n",
    "It is also possible to learn more about the parameters of a class by using the question mark: type and evaluate:\n",
    "\n",
    "```python\n",
    "optimizers.SGD?\n",
    "```\n",
    "\n",
    "in a jupyter notebook cell.\n",
    "\n",
    "It is also possible to type the beginning of a function call / constructor and type \"shift-tab\" after the opening paren:\n",
    "\n",
    "```python\n",
    "optimizers.SGD(<shift-tab>\n",
    "```"
   ]
  },
  {
   "cell_type": "code",
   "execution_count": 109,
   "metadata": {},
   "outputs": [
    {
     "name": "stdout",
     "output_type": "stream",
     "text": [
      "Help on class SGD in module keras.optimizers.optimizer_v2.gradient_descent:\n",
      "\n",
      "class SGD(keras.optimizers.optimizer_v2.optimizer_v2.OptimizerV2)\n",
      " |  SGD(learning_rate=0.01, momentum=0.0, nesterov=False, name='SGD', **kwargs)\n",
      " |  \n",
      " |  Gradient descent (with momentum) optimizer.\n",
      " |  \n",
      " |  Update rule for parameter `w` with gradient `g` when `momentum` is 0:\n",
      " |  \n",
      " |  ```python\n",
      " |  w = w - learning_rate * g\n",
      " |  ```\n",
      " |  \n",
      " |  Update rule when `momentum` is larger than 0:\n",
      " |  \n",
      " |  ```python\n",
      " |  velocity = momentum * velocity - learning_rate * g\n",
      " |  w = w + velocity\n",
      " |  ```\n",
      " |  \n",
      " |  When `nesterov=True`, this rule becomes:\n",
      " |  \n",
      " |  ```python\n",
      " |  velocity = momentum * velocity - learning_rate * g\n",
      " |  w = w + momentum * velocity - learning_rate * g\n",
      " |  ```\n",
      " |  \n",
      " |  Args:\n",
      " |    learning_rate: A `Tensor`, floating point value, or a schedule that is a\n",
      " |      `tf.keras.optimizers.schedules.LearningRateSchedule`, or a callable\n",
      " |      that takes no arguments and returns the actual value to use. The\n",
      " |      learning rate. Defaults to 0.01.\n",
      " |    momentum: float hyperparameter >= 0 that accelerates gradient descent in\n",
      " |      the relevant direction and dampens oscillations. Defaults to 0, i.e.,\n",
      " |      vanilla gradient descent.\n",
      " |    nesterov: boolean. Whether to apply Nesterov momentum.\n",
      " |      Defaults to `False`.\n",
      " |    name: Optional name prefix for the operations created when applying\n",
      " |      gradients.  Defaults to `\"SGD\"`.\n",
      " |    **kwargs: keyword arguments. Allowed arguments are `clipvalue`,\n",
      " |      `clipnorm`, `global_clipnorm`.\n",
      " |      If `clipvalue` (float) is set, the gradient of each weight\n",
      " |      is clipped to be no higher than this value.\n",
      " |      If `clipnorm` (float) is set, the gradient of each weight\n",
      " |      is individually clipped so that its norm is no higher than this value.\n",
      " |      If `global_clipnorm` (float) is set the gradient of all weights is\n",
      " |      clipped so that their global norm is no higher than this value.\n",
      " |  \n",
      " |  Usage:\n",
      " |  \n",
      " |  >>> opt = tf.keras.optimizers.SGD(learning_rate=0.1)\n",
      " |  >>> var = tf.Variable(1.0)\n",
      " |  >>> loss = lambda: (var ** 2)/2.0         # d(loss)/d(var1) = var1\n",
      " |  >>> step_count = opt.minimize(loss, [var]).numpy()\n",
      " |  >>> # Step is `- learning_rate * grad`\n",
      " |  >>> var.numpy()\n",
      " |  0.9\n",
      " |  \n",
      " |  >>> opt = tf.keras.optimizers.SGD(learning_rate=0.1, momentum=0.9)\n",
      " |  >>> var = tf.Variable(1.0)\n",
      " |  >>> val0 = var.value()\n",
      " |  >>> loss = lambda: (var ** 2)/2.0         # d(loss)/d(var1) = var1\n",
      " |  >>> # First step is `- learning_rate * grad`\n",
      " |  >>> step_count = opt.minimize(loss, [var]).numpy()\n",
      " |  >>> val1 = var.value()\n",
      " |  >>> (val0 - val1).numpy()\n",
      " |  0.1\n",
      " |  >>> # On later steps, step-size increases because of momentum\n",
      " |  >>> step_count = opt.minimize(loss, [var]).numpy()\n",
      " |  >>> val2 = var.value()\n",
      " |  >>> (val1 - val2).numpy()\n",
      " |  0.18\n",
      " |  \n",
      " |  Reference:\n",
      " |      - For `nesterov=True`, See [Sutskever et al., 2013](\n",
      " |        http://jmlr.org/proceedings/papers/v28/sutskever13.pdf).\n",
      " |  \n",
      " |  Method resolution order:\n",
      " |      SGD\n",
      " |      keras.optimizers.optimizer_v2.optimizer_v2.OptimizerV2\n",
      " |      tensorflow.python.trackable.base.Trackable\n",
      " |      builtins.object\n",
      " |  \n",
      " |  Methods defined here:\n",
      " |  \n",
      " |  __init__(self, learning_rate=0.01, momentum=0.0, nesterov=False, name='SGD', **kwargs)\n",
      " |      Create a new Optimizer.\n",
      " |      \n",
      " |      This must be called by the constructors of subclasses.\n",
      " |      Note that Optimizer instances should not bind to a single graph,\n",
      " |      and so shouldn't keep Tensors as member variables. Generally\n",
      " |      you should be able to use the _set_hyper()/state.get_hyper()\n",
      " |      facility instead.\n",
      " |      \n",
      " |      This class is stateful and thread-compatible.\n",
      " |      \n",
      " |      Example of custom gradient transformations:\n",
      " |      \n",
      " |      ```python\n",
      " |      def my_gradient_transformer(grads_and_vars):\n",
      " |        # Simple example, double the gradients.\n",
      " |        return [(2. * g, v) for g, v in grads_and_vars]\n",
      " |      \n",
      " |      optimizer = tf.keras.optimizers.SGD(\n",
      " |          1e-3, gradient_transformers=[my_gradient_transformer])\n",
      " |      ```\n",
      " |      \n",
      " |      Args:\n",
      " |        name: String. The name to use for momentum accumulator weights created\n",
      " |          by the optimizer.\n",
      " |        gradient_aggregator: The function to use to aggregate gradients across\n",
      " |          devices (when using `tf.distribute.Strategy`). If `None`, defaults\n",
      " |          to summing the gradients across devices. The function should accept\n",
      " |          and return a list of `(gradient, variable)` tuples.\n",
      " |        gradient_transformers: Optional. List of functions to use to transform\n",
      " |          gradients before applying updates to Variables. The functions are\n",
      " |          applied after `gradient_aggregator`. The functions should accept and\n",
      " |          return a list of `(gradient, variable)` tuples.\n",
      " |        **kwargs: keyword arguments. Allowed arguments are `clipvalue`,\n",
      " |          `clipnorm`, `global_clipnorm`.\n",
      " |          If `clipvalue` (float) is set, the gradient of each weight\n",
      " |          is clipped to be no higher than this value.\n",
      " |          If `clipnorm` (float) is set, the gradient of each weight\n",
      " |          is individually clipped so that its norm is no higher than this\n",
      " |          value. If `global_clipnorm` (float) is set the gradient of all\n",
      " |          weights is clipped so that their global norm is no higher than this\n",
      " |          value.\n",
      " |      \n",
      " |      Raises:\n",
      " |        ValueError: in case of any invalid argument.\n",
      " |  \n",
      " |  get_config(self)\n",
      " |      Returns the config of the optimizer.\n",
      " |      \n",
      " |      An optimizer config is a Python dictionary (serializable)\n",
      " |      containing the configuration of an optimizer.\n",
      " |      The same optimizer can be reinstantiated later\n",
      " |      (without any saved state) from this configuration.\n",
      " |      \n",
      " |      Returns:\n",
      " |          Python dictionary.\n",
      " |  \n",
      " |  ----------------------------------------------------------------------\n",
      " |  Methods inherited from keras.optimizers.optimizer_v2.optimizer_v2.OptimizerV2:\n",
      " |  \n",
      " |  __dir__(self)\n",
      " |      Default dir() implementation.\n",
      " |  \n",
      " |  __getattribute__(self, name)\n",
      " |      Overridden to support hyperparameter access.\n",
      " |  \n",
      " |  __setattr__(self, name, value)\n",
      " |      Override setattr to support dynamic hyperparameter setting.\n",
      " |  \n",
      " |  add_slot(self, var, slot_name, initializer='zeros', shape=None)\n",
      " |      Add a new slot variable for `var`.\n",
      " |      \n",
      " |      A slot variable is an additional variable associated with `var` to\n",
      " |      train.  It is allocated and managed by optimizers, e.g. `Adam`.\n",
      " |      \n",
      " |      Args:\n",
      " |        var: a `Variable` object.\n",
      " |        slot_name: name of the slot variable.\n",
      " |        initializer: initializer of the slot variable\n",
      " |        shape: (Optional) shape of the slot variable. If not set, it will\n",
      " |          default to the shape of `var`.\n",
      " |      \n",
      " |      Returns:\n",
      " |        A slot variable.\n",
      " |  \n",
      " |  add_weight(self, name, shape, dtype=None, initializer='zeros', trainable=None, synchronization=<VariableSynchronization.AUTO: 0>, aggregation=<VariableAggregationV2.NONE: 0>)\n",
      " |  \n",
      " |  apply_gradients(self, grads_and_vars, name=None, experimental_aggregate_gradients=True)\n",
      " |      Apply gradients to variables.\n",
      " |      \n",
      " |      This is the second part of `minimize()`. It returns an `Operation` that\n",
      " |      applies gradients.\n",
      " |      \n",
      " |      The method sums gradients from all replicas in the presence of\n",
      " |      `tf.distribute.Strategy` by default. You can aggregate gradients\n",
      " |      yourself by passing `experimental_aggregate_gradients=False`.\n",
      " |      \n",
      " |      Example:\n",
      " |      \n",
      " |      ```python\n",
      " |      grads = tape.gradient(loss, vars)\n",
      " |      grads = tf.distribute.get_replica_context().all_reduce('sum', grads)\n",
      " |      # Processing aggregated gradients.\n",
      " |      optimizer.apply_gradients(zip(grads, vars),\n",
      " |          experimental_aggregate_gradients=False)\n",
      " |      \n",
      " |      ```\n",
      " |      \n",
      " |      Args:\n",
      " |        grads_and_vars: List of (gradient, variable) pairs.\n",
      " |        name: Optional name for the returned operation. Default to the name\n",
      " |          passed to the `Optimizer` constructor.\n",
      " |        experimental_aggregate_gradients: Whether to sum gradients from\n",
      " |          different replicas in the presence of `tf.distribute.Strategy`. If\n",
      " |          False, it's user responsibility to aggregate the gradients. Default\n",
      " |          to True.\n",
      " |      \n",
      " |      Returns:\n",
      " |        An `Operation` that applies the specified gradients. The `iterations`\n",
      " |        will be automatically increased by 1.\n",
      " |      \n",
      " |      Raises:\n",
      " |        TypeError: If `grads_and_vars` is malformed.\n",
      " |        ValueError: If none of the variables have gradients.\n",
      " |        RuntimeError: If called in a cross-replica context.\n",
      " |  \n",
      " |  get_gradients(self, loss, params)\n",
      " |      Returns gradients of `loss` with respect to `params`.\n",
      " |      \n",
      " |      Should be used only in legacy v1 graph mode.\n",
      " |      \n",
      " |      Args:\n",
      " |        loss: Loss tensor.\n",
      " |        params: List of variables.\n",
      " |      \n",
      " |      Returns:\n",
      " |        List of gradient tensors.\n",
      " |      \n",
      " |      Raises:\n",
      " |        ValueError: In case any gradient cannot be computed (e.g. if gradient\n",
      " |          function not implemented).\n",
      " |  \n",
      " |  get_slot(self, var, slot_name)\n",
      " |  \n",
      " |  get_slot_names(self)\n",
      " |      A list of names for this optimizer's slots.\n",
      " |  \n",
      " |  get_updates(self, loss, params)\n",
      " |  \n",
      " |  get_weights(self)\n",
      " |      Returns the current weights of the optimizer.\n",
      " |      \n",
      " |      The weights of an optimizer are its state (ie, variables).\n",
      " |      This function returns the weight values associated with this\n",
      " |      optimizer as a list of Numpy arrays. The first value is always the\n",
      " |      iterations count of the optimizer, followed by the optimizer's state\n",
      " |      variables in the order they were created. The returned list can in turn\n",
      " |      be used to load state into similarly parameterized optimizers.\n",
      " |      \n",
      " |      For example, the RMSprop optimizer for this simple model returns a list\n",
      " |      of three values-- the iteration count, followed by the root-mean-square\n",
      " |      value of the kernel and bias of the single Dense layer:\n",
      " |      \n",
      " |      >>> opt = tf.keras.optimizers.RMSprop()\n",
      " |      >>> m = tf.keras.models.Sequential([tf.keras.layers.Dense(10)])\n",
      " |      >>> m.compile(opt, loss='mse')\n",
      " |      >>> data = np.arange(100).reshape(5, 20)\n",
      " |      >>> labels = np.zeros(5)\n",
      " |      >>> results = m.fit(data, labels)  # Training.\n",
      " |      >>> len(opt.get_weights())\n",
      " |      3\n",
      " |      \n",
      " |      Returns:\n",
      " |          Weights values as a list of numpy arrays.\n",
      " |  \n",
      " |  minimize(self, loss, var_list, grad_loss=None, name=None, tape=None)\n",
      " |      Minimize `loss` by updating `var_list`.\n",
      " |      \n",
      " |      This method simply computes gradient using `tf.GradientTape` and calls\n",
      " |      `apply_gradients()`. If you want to process the gradient before applying\n",
      " |      then call `tf.GradientTape` and `apply_gradients()` explicitly instead\n",
      " |      of using this function.\n",
      " |      \n",
      " |      Args:\n",
      " |        loss: `Tensor` or callable. If a callable, `loss` should take no\n",
      " |          arguments and return the value to minimize. If a `Tensor`, the\n",
      " |          `tape` argument must be passed.\n",
      " |        var_list: list or tuple of `Variable` objects to update to minimize\n",
      " |          `loss`, or a callable returning the list or tuple of `Variable`\n",
      " |          objects.  Use callable when the variable list would otherwise be\n",
      " |          incomplete before `minimize` since the variables are created at the\n",
      " |          first time `loss` is called.\n",
      " |        grad_loss: (Optional). A `Tensor` holding the gradient computed for\n",
      " |          `loss`.\n",
      " |        name: (Optional) str. Name for the returned operation.\n",
      " |        tape: (Optional) `tf.GradientTape`. If `loss` is provided as a\n",
      " |          `Tensor`, the tape that computed the `loss` must be provided.\n",
      " |      \n",
      " |      Returns:\n",
      " |        An `Operation` that updates the variables in `var_list`. The\n",
      " |        `iterations` will be automatically increased by 1.\n",
      " |      \n",
      " |      Raises:\n",
      " |        ValueError: If some of the variables are not `Variable` objects.\n",
      " |  \n",
      " |  set_weights(self, weights)\n",
      " |      Set the weights of the optimizer.\n",
      " |      \n",
      " |      The weights of an optimizer are its state (ie, variables).\n",
      " |      This function takes the weight values associated with this\n",
      " |      optimizer as a list of Numpy arrays. The first value is always the\n",
      " |      iterations count of the optimizer, followed by the optimizer's state\n",
      " |      variables in the order they are created. The passed values are used to\n",
      " |      set the new state of the optimizer.\n",
      " |      \n",
      " |      For example, the RMSprop optimizer for this simple model takes a list of\n",
      " |      three values-- the iteration count, followed by the root-mean-square\n",
      " |      value of the kernel and bias of the single Dense layer:\n",
      " |      \n",
      " |      >>> opt = tf.keras.optimizers.RMSprop()\n",
      " |      >>> m = tf.keras.models.Sequential([tf.keras.layers.Dense(10)])\n",
      " |      >>> m.compile(opt, loss='mse')\n",
      " |      >>> data = np.arange(100).reshape(5, 20)\n",
      " |      >>> labels = np.zeros(5)\n",
      " |      >>> results = m.fit(data, labels)  # Training.\n",
      " |      >>> new_weights = [np.array(10), np.ones([20, 10]), np.zeros([10])]\n",
      " |      >>> opt.set_weights(new_weights)\n",
      " |      >>> opt.iterations\n",
      " |      <tf.Variable 'RMSprop/iter:0' shape=() dtype=int64, numpy=10>\n",
      " |      \n",
      " |      Args:\n",
      " |          weights: weight values as a list of numpy arrays.\n",
      " |  \n",
      " |  variables(self)\n",
      " |      Returns variables of this Optimizer based on the order created.\n",
      " |  \n",
      " |  ----------------------------------------------------------------------\n",
      " |  Class methods inherited from keras.optimizers.optimizer_v2.optimizer_v2.OptimizerV2:\n",
      " |  \n",
      " |  from_config(config, custom_objects=None) from builtins.type\n",
      " |      Creates an optimizer from its config.\n",
      " |      \n",
      " |      This method is the reverse of `get_config`,\n",
      " |      capable of instantiating the same optimizer from the config\n",
      " |      dictionary.\n",
      " |      \n",
      " |      Args:\n",
      " |          config: A Python dictionary, typically the output of get_config.\n",
      " |          custom_objects: A Python dictionary mapping names to additional\n",
      " |            Python objects used to create this optimizer, such as a function\n",
      " |            used for a hyperparameter.\n",
      " |      \n",
      " |      Returns:\n",
      " |          An optimizer instance.\n",
      " |  \n",
      " |  ----------------------------------------------------------------------\n",
      " |  Readonly properties inherited from keras.optimizers.optimizer_v2.optimizer_v2.OptimizerV2:\n",
      " |  \n",
      " |  weights\n",
      " |      Returns variables of this Optimizer based on the order created.\n",
      " |  \n",
      " |  ----------------------------------------------------------------------\n",
      " |  Data descriptors inherited from keras.optimizers.optimizer_v2.optimizer_v2.OptimizerV2:\n",
      " |  \n",
      " |  clipnorm\n",
      " |      `float` or `None`. If set, clips gradients to a maximum norm.\n",
      " |  \n",
      " |  clipvalue\n",
      " |      `float` or `None`. If set, clips gradients to a maximum value.\n",
      " |  \n",
      " |  global_clipnorm\n",
      " |      `float` or `None`.\n",
      " |      \n",
      " |      If set, clips gradients to a maximum norm.\n",
      " |      \n",
      " |      Check `tf.clip_by_global_norm` for more details.\n",
      " |  \n",
      " |  iterations\n",
      " |      Variable. The number of training steps this Optimizer has run.\n",
      " |  \n",
      " |  ----------------------------------------------------------------------\n",
      " |  Data descriptors inherited from tensorflow.python.trackable.base.Trackable:\n",
      " |  \n",
      " |  __dict__\n",
      " |      dictionary for instance variables (if defined)\n",
      " |  \n",
      " |  __weakref__\n",
      " |      list of weak references to the object (if defined)\n",
      "\n"
     ]
    }
   ],
   "source": [
    "from keras.optimizers import SGD\n",
    "help(SGD)"
   ]
  },
  {
   "cell_type": "code",
   "execution_count": 110,
   "metadata": {},
   "outputs": [
    {
     "name": "stdout",
     "output_type": "stream",
     "text": [
      "Model: \"sequential_25\"\n",
      "_________________________________________________________________\n",
      " Layer (type)                Output Shape              Param #   \n",
      "=================================================================\n",
      " dense_76 (Dense)            (None, 64)                4160      \n",
      "                                                                 \n",
      " dense_77 (Dense)            (None, 64)                4160      \n",
      "                                                                 \n",
      " dense_78 (Dense)            (None, 10)                650       \n",
      "                                                                 \n",
      "=================================================================\n",
      "Total params: 8,970\n",
      "Trainable params: 8,970\n",
      "Non-trainable params: 0\n",
      "_________________________________________________________________\n",
      "Epoch 1/15\n",
      "36/36 [==============================] - 1s 8ms/step - loss: 3.7208 - accuracy: 0.1480 - val_loss: 2.5022 - val_accuracy: 0.2153\n",
      "Epoch 2/15\n",
      "36/36 [==============================] - 0s 2ms/step - loss: 2.1014 - accuracy: 0.2994 - val_loss: 1.8511 - val_accuracy: 0.3924\n",
      "Epoch 3/15\n",
      "36/36 [==============================] - 0s 2ms/step - loss: 1.6102 - accuracy: 0.4856 - val_loss: 1.5034 - val_accuracy: 0.5382\n",
      "Epoch 4/15\n",
      "36/36 [==============================] - 0s 2ms/step - loss: 1.3204 - accuracy: 0.5901 - val_loss: 1.2718 - val_accuracy: 0.6215\n",
      "Epoch 5/15\n",
      "36/36 [==============================] - 0s 2ms/step - loss: 1.1247 - accuracy: 0.6658 - val_loss: 1.1221 - val_accuracy: 0.6528\n",
      "Epoch 6/15\n",
      "36/36 [==============================] - 0s 2ms/step - loss: 0.9810 - accuracy: 0.7215 - val_loss: 0.9940 - val_accuracy: 0.6910\n",
      "Epoch 7/15\n",
      "36/36 [==============================] - 0s 2ms/step - loss: 0.8680 - accuracy: 0.7485 - val_loss: 0.9013 - val_accuracy: 0.7257\n",
      "Epoch 8/15\n",
      "36/36 [==============================] - 0s 2ms/step - loss: 0.7837 - accuracy: 0.7720 - val_loss: 0.8246 - val_accuracy: 0.7604\n",
      "Epoch 9/15\n",
      "36/36 [==============================] - 0s 2ms/step - loss: 0.7094 - accuracy: 0.7955 - val_loss: 0.7645 - val_accuracy: 0.7569\n",
      "Epoch 10/15\n",
      "36/36 [==============================] - 0s 2ms/step - loss: 0.6528 - accuracy: 0.8172 - val_loss: 0.7088 - val_accuracy: 0.7743\n",
      "Epoch 11/15\n",
      "36/36 [==============================] - 0s 2ms/step - loss: 0.6039 - accuracy: 0.8285 - val_loss: 0.6656 - val_accuracy: 0.7917\n",
      "Epoch 12/15\n",
      "36/36 [==============================] - 0s 2ms/step - loss: 0.5617 - accuracy: 0.8381 - val_loss: 0.6236 - val_accuracy: 0.8021\n",
      "Epoch 13/15\n",
      "36/36 [==============================] - 0s 2ms/step - loss: 0.5267 - accuracy: 0.8512 - val_loss: 0.5898 - val_accuracy: 0.8229\n",
      "Epoch 14/15\n",
      "36/36 [==============================] - 0s 2ms/step - loss: 0.4962 - accuracy: 0.8555 - val_loss: 0.5603 - val_accuracy: 0.8299\n",
      "Epoch 15/15\n",
      "36/36 [==============================] - 0s 2ms/step - loss: 0.4651 - accuracy: 0.8660 - val_loss: 0.5345 - val_accuracy: 0.8299\n"
     ]
    }
   ],
   "source": [
    "# learning rate at 0.001\n",
    "from tensorflow.keras import optimizers\n",
    "model = Sequential()\n",
    "\n",
    "# Input layer\n",
    "model.add(Dense(64, activation='relu', input_shape=(64,))) # 64 neurons, ReLU activation, input shape of 64\n",
    "\n",
    "# Hidden layer\n",
    "model.add(Dense(64, activation='relu')) # 64 neurons, ReLU activation\n",
    "\n",
    "# Output layer\n",
    "model.add(Dense(10, activation='softmax')) # 10 neurons, softmax activation\n",
    "\n",
    "model.summary()\n",
    "\n",
    "model.compile(optimizer=optimizers.SGD(learning_rate=0.001), loss= 'categorical_crossentropy', metrics=['accuracy'])\n",
    "history = model.fit(X_train, y_train, epochs=15, batch_size=32, validation_split=0.2)"
   ]
  },
  {
   "cell_type": "code",
   "execution_count": 111,
   "metadata": {},
   "outputs": [
    {
     "name": "stdout",
     "output_type": "stream",
     "text": [
      "Model: \"sequential_26\"\n",
      "_________________________________________________________________\n",
      " Layer (type)                Output Shape              Param #   \n",
      "=================================================================\n",
      " dense_79 (Dense)            (None, 64)                4160      \n",
      "                                                                 \n",
      " dense_80 (Dense)            (None, 64)                4160      \n",
      "                                                                 \n",
      " dense_81 (Dense)            (None, 10)                650       \n",
      "                                                                 \n",
      "=================================================================\n",
      "Total params: 8,970\n",
      "Trainable params: 8,970\n",
      "Non-trainable params: 0\n",
      "_________________________________________________________________\n",
      "Epoch 1/15\n",
      "36/36 [==============================] - 1s 8ms/step - loss: 5.8596 - accuracy: 0.0879 - val_loss: 5.7908 - val_accuracy: 0.1076\n",
      "Epoch 2/15\n",
      "36/36 [==============================] - 0s 2ms/step - loss: 5.6879 - accuracy: 0.0853 - val_loss: 5.6240 - val_accuracy: 0.1181\n",
      "Epoch 3/15\n",
      "36/36 [==============================] - 0s 2ms/step - loss: 5.5276 - accuracy: 0.0853 - val_loss: 5.4680 - val_accuracy: 0.1215\n",
      "Epoch 4/15\n",
      "36/36 [==============================] - 0s 2ms/step - loss: 5.3774 - accuracy: 0.0870 - val_loss: 5.3221 - val_accuracy: 0.1250\n",
      "Epoch 5/15\n",
      "36/36 [==============================] - 0s 2ms/step - loss: 5.2369 - accuracy: 0.0914 - val_loss: 5.1855 - val_accuracy: 0.1250\n",
      "Epoch 6/15\n",
      "36/36 [==============================] - 0s 2ms/step - loss: 5.1054 - accuracy: 0.0923 - val_loss: 5.0571 - val_accuracy: 0.1285\n",
      "Epoch 7/15\n",
      "36/36 [==============================] - 0s 2ms/step - loss: 4.9823 - accuracy: 0.0983 - val_loss: 4.9368 - val_accuracy: 0.1319\n",
      "Epoch 8/15\n",
      "36/36 [==============================] - 0s 2ms/step - loss: 4.8669 - accuracy: 0.1010 - val_loss: 4.8239 - val_accuracy: 0.1319\n",
      "Epoch 9/15\n",
      "36/36 [==============================] - 0s 2ms/step - loss: 4.7586 - accuracy: 0.1027 - val_loss: 4.7178 - val_accuracy: 0.1250\n",
      "Epoch 10/15\n",
      "36/36 [==============================] - 0s 2ms/step - loss: 4.6567 - accuracy: 0.1027 - val_loss: 4.6173 - val_accuracy: 0.1285\n",
      "Epoch 11/15\n",
      "36/36 [==============================] - 0s 2ms/step - loss: 4.5605 - accuracy: 0.1079 - val_loss: 4.5225 - val_accuracy: 0.1389\n",
      "Epoch 12/15\n",
      "36/36 [==============================] - 0s 2ms/step - loss: 4.4697 - accuracy: 0.1105 - val_loss: 4.4327 - val_accuracy: 0.1424\n",
      "Epoch 13/15\n",
      "36/36 [==============================] - 0s 2ms/step - loss: 4.3840 - accuracy: 0.1140 - val_loss: 4.3474 - val_accuracy: 0.1424\n",
      "Epoch 14/15\n",
      "36/36 [==============================] - 0s 2ms/step - loss: 4.3031 - accuracy: 0.1210 - val_loss: 4.2668 - val_accuracy: 0.1424\n",
      "Epoch 15/15\n",
      "36/36 [==============================] - 0s 3ms/step - loss: 4.2270 - accuracy: 0.1245 - val_loss: 4.1904 - val_accuracy: 0.1424\n"
     ]
    }
   ],
   "source": [
    "# learning rate at 0.00001\n",
    "from tensorflow.keras import optimizers\n",
    "model = Sequential()\n",
    "\n",
    "# Input layer\n",
    "model.add(Dense(64, activation='relu', input_shape=(64,))) # 64 neurons, ReLU activation, input shape of 64\n",
    "\n",
    "# Hidden layer\n",
    "model.add(Dense(64, activation='relu')) # 64 neurons, ReLU activation\n",
    "\n",
    "# Output layer\n",
    "model.add(Dense(10, activation='softmax')) # 10 neurons, softmax activation\n",
    "\n",
    "model.summary()\n",
    "\n",
    "model.compile(optimizer=optimizers.SGD(learning_rate=0.00001), loss= 'categorical_crossentropy', metrics=['accuracy'])\n",
    "history = model.fit(X_train, y_train, epochs=15, batch_size=32, validation_split=0.2)"
   ]
  },
  {
   "cell_type": "code",
   "execution_count": 112,
   "metadata": {},
   "outputs": [
    {
     "name": "stdout",
     "output_type": "stream",
     "text": [
      "Model: \"sequential_27\"\n",
      "_________________________________________________________________\n",
      " Layer (type)                Output Shape              Param #   \n",
      "=================================================================\n",
      " dense_82 (Dense)            (None, 64)                4160      \n",
      "                                                                 \n",
      " dense_83 (Dense)            (None, 64)                4160      \n",
      "                                                                 \n",
      " dense_84 (Dense)            (None, 10)                650       \n",
      "                                                                 \n",
      "=================================================================\n",
      "Total params: 8,970\n",
      "Trainable params: 8,970\n",
      "Non-trainable params: 0\n",
      "_________________________________________________________________\n",
      "Epoch 1/15\n",
      "36/36 [==============================] - 1s 8ms/step - loss: 3.8796 - accuracy: 0.2480 - val_loss: 1.8762 - val_accuracy: 0.3819\n",
      "Epoch 2/15\n",
      "36/36 [==============================] - 0s 2ms/step - loss: 1.7576 - accuracy: 0.3664 - val_loss: 1.5805 - val_accuracy: 0.4757\n",
      "Epoch 3/15\n",
      "36/36 [==============================] - 0s 2ms/step - loss: 1.6853 - accuracy: 0.3899 - val_loss: 1.7482 - val_accuracy: 0.3507\n",
      "Epoch 4/15\n",
      "36/36 [==============================] - 0s 2ms/step - loss: 1.7481 - accuracy: 0.3507 - val_loss: 1.6210 - val_accuracy: 0.4167\n",
      "Epoch 5/15\n",
      "36/36 [==============================] - 0s 2ms/step - loss: 1.5458 - accuracy: 0.4082 - val_loss: 1.4427 - val_accuracy: 0.4653\n",
      "Epoch 6/15\n",
      "36/36 [==============================] - 0s 2ms/step - loss: 1.8438 - accuracy: 0.2872 - val_loss: 1.6005 - val_accuracy: 0.3924\n",
      "Epoch 7/15\n",
      "36/36 [==============================] - 0s 2ms/step - loss: 1.5930 - accuracy: 0.3760 - val_loss: 1.6462 - val_accuracy: 0.3611\n",
      "Epoch 8/15\n",
      "36/36 [==============================] - 0s 2ms/step - loss: 1.4491 - accuracy: 0.4134 - val_loss: 1.3548 - val_accuracy: 0.4826\n",
      "Epoch 9/15\n",
      "36/36 [==============================] - 0s 2ms/step - loss: 1.2059 - accuracy: 0.4987 - val_loss: 1.2956 - val_accuracy: 0.5035\n",
      "Epoch 10/15\n",
      "36/36 [==============================] - 0s 2ms/step - loss: 1.1654 - accuracy: 0.5396 - val_loss: 1.5546 - val_accuracy: 0.3889\n",
      "Epoch 11/15\n",
      "36/36 [==============================] - 0s 2ms/step - loss: 1.1546 - accuracy: 0.5257 - val_loss: 1.0028 - val_accuracy: 0.5868\n",
      "Epoch 12/15\n",
      "36/36 [==============================] - 0s 2ms/step - loss: 1.1474 - accuracy: 0.5718 - val_loss: 1.0786 - val_accuracy: 0.6215\n",
      "Epoch 13/15\n",
      "36/36 [==============================] - 0s 2ms/step - loss: 0.9016 - accuracy: 0.6684 - val_loss: 0.9052 - val_accuracy: 0.6701\n",
      "Epoch 14/15\n",
      "36/36 [==============================] - 0s 2ms/step - loss: 0.7795 - accuracy: 0.7302 - val_loss: 0.6764 - val_accuracy: 0.7535\n",
      "Epoch 15/15\n",
      "36/36 [==============================] - 0s 2ms/step - loss: 1.0579 - accuracy: 0.6197 - val_loss: 1.1220 - val_accuracy: 0.5625\n"
     ]
    }
   ],
   "source": [
    "# learning rate at 0.1\n",
    "from tensorflow.keras import optimizers\n",
    "model = Sequential()\n",
    "\n",
    "# Input layer\n",
    "model.add(Dense(64, activation='relu', input_shape=(64,))) # 64 neurons, ReLU activation, input shape of 64\n",
    "\n",
    "# Hidden layer\n",
    "model.add(Dense(64, activation='relu')) # 64 neurons, ReLU activation\n",
    "\n",
    "# Output layer\n",
    "model.add(Dense(10, activation='softmax')) # 10 neurons, softmax activation\n",
    "\n",
    "model.summary()\n",
    "\n",
    "model.compile(optimizer=optimizers.SGD(learning_rate=0.1), loss= 'categorical_crossentropy', metrics=['accuracy'])\n",
    "history = model.fit(X_train, y_train, epochs=15, batch_size=32, validation_split=0.2)"
   ]
  },
  {
   "cell_type": "code",
   "execution_count": 113,
   "metadata": {},
   "outputs": [
    {
     "name": "stdout",
     "output_type": "stream",
     "text": [
      "Model: \"sequential_28\"\n",
      "_________________________________________________________________\n",
      " Layer (type)                Output Shape              Param #   \n",
      "=================================================================\n",
      " dense_85 (Dense)            (None, 64)                4160      \n",
      "                                                                 \n",
      " dense_86 (Dense)            (None, 64)                4160      \n",
      "                                                                 \n",
      " dense_87 (Dense)            (None, 10)                650       \n",
      "                                                                 \n",
      "=================================================================\n",
      "Total params: 8,970\n",
      "Trainable params: 8,970\n",
      "Non-trainable params: 0\n",
      "_________________________________________________________________\n",
      "Epoch 1/15\n",
      "36/36 [==============================] - 1s 9ms/step - loss: 1.7130 - accuracy: 0.5753 - val_loss: 0.6079 - val_accuracy: 0.7986\n",
      "Epoch 2/15\n",
      "36/36 [==============================] - 0s 2ms/step - loss: 0.3296 - accuracy: 0.8903 - val_loss: 0.2772 - val_accuracy: 0.9097\n",
      "Epoch 3/15\n",
      "36/36 [==============================] - 0s 2ms/step - loss: 0.1475 - accuracy: 0.9460 - val_loss: 0.2232 - val_accuracy: 0.9306\n",
      "Epoch 4/15\n",
      "36/36 [==============================] - 0s 2ms/step - loss: 0.0981 - accuracy: 0.9730 - val_loss: 0.2034 - val_accuracy: 0.9340\n",
      "Epoch 5/15\n",
      "36/36 [==============================] - 0s 2ms/step - loss: 0.0641 - accuracy: 0.9800 - val_loss: 0.1776 - val_accuracy: 0.9306\n",
      "Epoch 6/15\n",
      "36/36 [==============================] - 0s 2ms/step - loss: 0.0353 - accuracy: 0.9922 - val_loss: 0.1674 - val_accuracy: 0.9479\n",
      "Epoch 7/15\n",
      "36/36 [==============================] - 0s 2ms/step - loss: 0.0299 - accuracy: 0.9922 - val_loss: 0.1299 - val_accuracy: 0.9583\n",
      "Epoch 8/15\n",
      "36/36 [==============================] - 0s 2ms/step - loss: 0.0306 - accuracy: 0.9939 - val_loss: 0.1468 - val_accuracy: 0.9514\n",
      "Epoch 9/15\n",
      "36/36 [==============================] - 0s 2ms/step - loss: 0.0310 - accuracy: 0.9869 - val_loss: 0.1549 - val_accuracy: 0.9479\n",
      "Epoch 10/15\n",
      "36/36 [==============================] - 0s 2ms/step - loss: 0.0112 - accuracy: 0.9983 - val_loss: 0.1206 - val_accuracy: 0.9653\n",
      "Epoch 11/15\n",
      "36/36 [==============================] - 0s 2ms/step - loss: 0.0095 - accuracy: 0.9983 - val_loss: 0.1252 - val_accuracy: 0.9549\n",
      "Epoch 12/15\n",
      "36/36 [==============================] - 0s 2ms/step - loss: 0.0055 - accuracy: 1.0000 - val_loss: 0.1135 - val_accuracy: 0.9618\n",
      "Epoch 13/15\n",
      "36/36 [==============================] - 0s 2ms/step - loss: 0.0035 - accuracy: 1.0000 - val_loss: 0.1263 - val_accuracy: 0.9583\n",
      "Epoch 14/15\n",
      "36/36 [==============================] - 0s 2ms/step - loss: 0.0030 - accuracy: 1.0000 - val_loss: 0.1138 - val_accuracy: 0.9653\n",
      "Epoch 15/15\n",
      "36/36 [==============================] - 0s 2ms/step - loss: 0.0027 - accuracy: 1.0000 - val_loss: 0.1192 - val_accuracy: 0.9618\n"
     ]
    }
   ],
   "source": [
    "# momentum added at 0.9\n",
    "from tensorflow.keras import optimizers\n",
    "model = Sequential()\n",
    "\n",
    "# Input layer\n",
    "model.add(Dense(64, activation='relu', input_shape=(64,))) # 64 neurons, ReLU activation, input shape of 64\n",
    "\n",
    "# Hidden layer\n",
    "model.add(Dense(64, activation='relu')) # 64 neurons, ReLU activation\n",
    "\n",
    "# Output layer\n",
    "model.add(Dense(10, activation='softmax')) # 10 neurons, softmax activation\n",
    "\n",
    "model.summary()\n",
    "\n",
    "model.compile(optimizer=optimizers.SGD(learning_rate=0.01, momentum= 0.9), loss= 'categorical_crossentropy', metrics=['accuracy'])\n",
    "history = model.fit(X_train, y_train, epochs=15, batch_size=32, validation_split=0.2)"
   ]
  },
  {
   "cell_type": "markdown",
   "metadata": {},
   "source": [
    "Next, let's try a more advanced optimizer. Adam is likely the most popular optimizer for deep learning. It is an adaptive learning rate optimizer, which means that it automatically adjusts the learning rate based on how the training is going. This can be very useful, as it means that we don't need to manually tune the learning rate. Let's see how it performs on our model.\n",
    "\n",
    "\n",
    "1. Replace the SGD optimizer by the Adam optimizer from keras and run it\n",
    "  with the default parameters.\n",
    "\n",
    "2. Add another hidden layer with ReLU activation and 64 neurons. Does it improve the model performance?\n",
    "\n",
    "Improves model performance\n"
   ]
  },
  {
   "cell_type": "code",
   "execution_count": 114,
   "metadata": {},
   "outputs": [
    {
     "name": "stdout",
     "output_type": "stream",
     "text": [
      "Model: \"sequential_29\"\n",
      "_________________________________________________________________\n",
      " Layer (type)                Output Shape              Param #   \n",
      "=================================================================\n",
      " dense_88 (Dense)            (None, 64)                4160      \n",
      "                                                                 \n",
      " dense_89 (Dense)            (None, 64)                4160      \n",
      "                                                                 \n",
      " dense_90 (Dense)            (None, 10)                650       \n",
      "                                                                 \n",
      "=================================================================\n",
      "Total params: 8,970\n",
      "Trainable params: 8,970\n",
      "Non-trainable params: 0\n",
      "_________________________________________________________________\n",
      "Epoch 1/15\n",
      "36/36 [==============================] - 1s 8ms/step - loss: 1.6094 - accuracy: 0.6614 - val_loss: 0.3604 - val_accuracy: 0.8785\n",
      "Epoch 2/15\n",
      "36/36 [==============================] - 0s 2ms/step - loss: 0.2832 - accuracy: 0.9034 - val_loss: 0.2493 - val_accuracy: 0.9410\n",
      "Epoch 3/15\n",
      "36/36 [==============================] - 0s 2ms/step - loss: 0.1142 - accuracy: 0.9574 - val_loss: 0.2958 - val_accuracy: 0.9097\n",
      "Epoch 4/15\n",
      "36/36 [==============================] - 0s 2ms/step - loss: 0.1123 - accuracy: 0.9669 - val_loss: 0.2854 - val_accuracy: 0.9271\n",
      "Epoch 5/15\n",
      "36/36 [==============================] - 0s 3ms/step - loss: 0.0565 - accuracy: 0.9817 - val_loss: 0.2701 - val_accuracy: 0.9410\n",
      "Epoch 6/15\n",
      "36/36 [==============================] - 0s 3ms/step - loss: 0.0776 - accuracy: 0.9704 - val_loss: 0.2755 - val_accuracy: 0.9444\n",
      "Epoch 7/15\n",
      "36/36 [==============================] - 0s 3ms/step - loss: 0.0632 - accuracy: 0.9800 - val_loss: 0.2080 - val_accuracy: 0.9444\n",
      "Epoch 8/15\n",
      "36/36 [==============================] - 0s 2ms/step - loss: 0.0328 - accuracy: 0.9904 - val_loss: 0.2136 - val_accuracy: 0.9410\n",
      "Epoch 9/15\n",
      "36/36 [==============================] - 0s 3ms/step - loss: 0.0282 - accuracy: 0.9887 - val_loss: 0.2049 - val_accuracy: 0.9583\n",
      "Epoch 10/15\n",
      "36/36 [==============================] - 0s 2ms/step - loss: 0.0341 - accuracy: 0.9887 - val_loss: 0.2255 - val_accuracy: 0.9514\n",
      "Epoch 11/15\n",
      "36/36 [==============================] - 0s 2ms/step - loss: 0.0915 - accuracy: 0.9695 - val_loss: 0.5072 - val_accuracy: 0.8854\n",
      "Epoch 12/15\n",
      "36/36 [==============================] - 0s 2ms/step - loss: 0.0911 - accuracy: 0.9695 - val_loss: 0.3367 - val_accuracy: 0.9306\n",
      "Epoch 13/15\n",
      "36/36 [==============================] - 0s 2ms/step - loss: 0.0915 - accuracy: 0.9704 - val_loss: 0.2678 - val_accuracy: 0.9340\n",
      "Epoch 14/15\n",
      "36/36 [==============================] - 0s 2ms/step - loss: 0.0942 - accuracy: 0.9695 - val_loss: 0.3232 - val_accuracy: 0.9306\n",
      "Epoch 15/15\n",
      "36/36 [==============================] - 0s 2ms/step - loss: 0.0433 - accuracy: 0.9852 - val_loss: 0.2705 - val_accuracy: 0.9271\n"
     ]
    }
   ],
   "source": [
    "# Adam optimizer and default parameters\n",
    "from tensorflow.keras import optimizers\n",
    "from tensorflow.keras.optimizers import Adam\n",
    "model = Sequential()\n",
    "\n",
    "# Input layer\n",
    "model.add(Dense(64, activation='relu', input_shape=(64,))) # 64 neurons, ReLU activation, input shape of 64\n",
    "\n",
    "# Hidden layer\n",
    "model.add(Dense(64, activation='relu')) # 64 neurons, ReLU activation\n",
    "\n",
    "# Output layer\n",
    "model.add(Dense(10, activation='softmax')) # 10 neurons, softmax activation\n",
    "\n",
    "model.summary()\n",
    "\n",
    "model.compile(optimizer= Adam(learning_rate=0.01), loss= 'categorical_crossentropy', metrics=['accuracy'])\n",
    "history = model.fit(X_train, y_train, epochs=15, batch_size=32, validation_split=0.2)"
   ]
  },
  {
   "cell_type": "code",
   "execution_count": 115,
   "metadata": {},
   "outputs": [
    {
     "name": "stdout",
     "output_type": "stream",
     "text": [
      "Model: \"sequential_30\"\n",
      "_________________________________________________________________\n",
      " Layer (type)                Output Shape              Param #   \n",
      "=================================================================\n",
      " dense_91 (Dense)            (None, 64)                4160      \n",
      "                                                                 \n",
      " dense_92 (Dense)            (None, 64)                4160      \n",
      "                                                                 \n",
      " dense_93 (Dense)            (None, 64)                4160      \n",
      "                                                                 \n",
      " dense_94 (Dense)            (None, 10)                650       \n",
      "                                                                 \n",
      "=================================================================\n",
      "Total params: 13,130\n",
      "Trainable params: 13,130\n",
      "Non-trainable params: 0\n",
      "_________________________________________________________________\n",
      "Epoch 1/15\n",
      "36/36 [==============================] - 1s 9ms/step - loss: 0.9957 - accuracy: 0.6919 - val_loss: 0.4126 - val_accuracy: 0.8889\n",
      "Epoch 2/15\n",
      "36/36 [==============================] - 0s 3ms/step - loss: 0.2862 - accuracy: 0.9112 - val_loss: 0.3001 - val_accuracy: 0.9028\n",
      "Epoch 3/15\n",
      "36/36 [==============================] - 0s 3ms/step - loss: 0.1416 - accuracy: 0.9530 - val_loss: 0.2227 - val_accuracy: 0.9236\n",
      "Epoch 4/15\n",
      "36/36 [==============================] - 0s 3ms/step - loss: 0.1466 - accuracy: 0.9513 - val_loss: 0.3450 - val_accuracy: 0.8785\n",
      "Epoch 5/15\n",
      "36/36 [==============================] - 0s 3ms/step - loss: 0.1658 - accuracy: 0.9469 - val_loss: 0.2435 - val_accuracy: 0.9306\n",
      "Epoch 6/15\n",
      "36/36 [==============================] - 0s 3ms/step - loss: 0.1092 - accuracy: 0.9591 - val_loss: 0.2038 - val_accuracy: 0.9583\n",
      "Epoch 7/15\n",
      "36/36 [==============================] - 0s 3ms/step - loss: 0.1366 - accuracy: 0.9678 - val_loss: 0.2782 - val_accuracy: 0.9271\n",
      "Epoch 8/15\n",
      "36/36 [==============================] - 0s 3ms/step - loss: 0.0969 - accuracy: 0.9739 - val_loss: 0.1547 - val_accuracy: 0.9514\n",
      "Epoch 9/15\n",
      "36/36 [==============================] - 0s 3ms/step - loss: 0.1148 - accuracy: 0.9617 - val_loss: 0.2311 - val_accuracy: 0.9306\n",
      "Epoch 10/15\n",
      "36/36 [==============================] - 0s 3ms/step - loss: 0.0852 - accuracy: 0.9748 - val_loss: 0.2272 - val_accuracy: 0.9375\n",
      "Epoch 11/15\n",
      "36/36 [==============================] - 0s 3ms/step - loss: 0.0543 - accuracy: 0.9817 - val_loss: 0.3776 - val_accuracy: 0.9236\n",
      "Epoch 12/15\n",
      "36/36 [==============================] - 0s 3ms/step - loss: 0.0770 - accuracy: 0.9739 - val_loss: 0.2298 - val_accuracy: 0.9271\n",
      "Epoch 13/15\n",
      "36/36 [==============================] - 0s 3ms/step - loss: 0.0564 - accuracy: 0.9861 - val_loss: 0.1956 - val_accuracy: 0.9479\n",
      "Epoch 14/15\n",
      "36/36 [==============================] - 0s 3ms/step - loss: 0.1291 - accuracy: 0.9695 - val_loss: 0.3761 - val_accuracy: 0.9062\n",
      "Epoch 15/15\n",
      "36/36 [==============================] - 0s 3ms/step - loss: 0.0686 - accuracy: 0.9756 - val_loss: 0.2528 - val_accuracy: 0.9514\n"
     ]
    }
   ],
   "source": [
    "# Adding another layer\n",
    "from tensorflow.keras import optimizers\n",
    "from tensorflow.keras.optimizers import Adam\n",
    "model = Sequential()\n",
    "\n",
    "# Input layer\n",
    "model.add(Dense(64, activation='relu', input_shape=(64,))) # 64 neurons, ReLU activation, input shape of 64\n",
    "\n",
    "# Hidden layer\n",
    "model.add(Dense(64, activation='relu')) # 64 neurons, ReLU activation\n",
    "model.add(Dense(64, activation='relu')) # 64 neurons, ReLU activation\n",
    "\n",
    "# Output layer\n",
    "model.add(Dense(10, activation='softmax')) # 10 neurons, softmax activation\n",
    "\n",
    "model.summary()\n",
    "\n",
    "model.compile(optimizer= Adam(learning_rate=0.01), loss= 'categorical_crossentropy', metrics=['accuracy'])\n",
    "history = model.fit(X_train, y_train, epochs=15, batch_size=32, validation_split=0.2)"
   ]
  },
  {
   "cell_type": "markdown",
   "metadata": {},
   "source": [
    "### Exercises: Forward Pass and Generalization\n",
    "\n",
    "Let's look in more detail at how the model makes predictions on the test set. We will walk through each step of making predictions, examining exactly what's going on.\n",
    "\n",
    "To start, we will apply our model to the test set, and look at what we get as output:"
   ]
  },
  {
   "cell_type": "code",
   "execution_count": 116,
   "metadata": {},
   "outputs": [
    {
     "data": {
      "text/plain": [
       "<tf.Tensor: shape=(5, 10), dtype=float32, numpy=\n",
       "array([[7.94518479e-11, 7.76137909e-09, 5.77551624e-13, 1.56445617e-13,\n",
       "        1.03586024e-06, 1.05638840e-08, 9.99998868e-01, 7.26410737e-11,\n",
       "        6.93549662e-10, 6.62338370e-12],\n",
       "       [1.48949395e-08, 1.65362235e-09, 1.03427178e-09, 1.54849700e-09,\n",
       "        1.26781941e-07, 6.74301918e-05, 8.76540796e-09, 1.84672672e-06,\n",
       "        2.46889194e-08, 9.99930561e-01],\n",
       "       [9.20504437e-11, 2.85954201e-07, 8.21817412e-06, 9.99986827e-01,\n",
       "        1.97004999e-11, 3.77990546e-07, 8.13264478e-08, 1.54186608e-07,\n",
       "        2.81430857e-06, 1.06692653e-06],\n",
       "       [5.45938983e-09, 4.69870294e-08, 1.62329275e-06, 2.68560532e-03,\n",
       "        1.02044257e-08, 4.33639158e-04, 1.17876446e-07, 9.90247667e-01,\n",
       "        4.78874313e-07, 6.63083000e-03],\n",
       "       [3.24880192e-11, 1.22651622e-09, 9.99998748e-01, 9.87674525e-07,\n",
       "        5.27947742e-14, 6.82430501e-12, 9.08233645e-12, 1.63697745e-12,\n",
       "        2.08848661e-07, 3.09091706e-12]], dtype=float32)>"
      ]
     },
     "execution_count": 116,
     "metadata": {},
     "output_type": "execute_result"
    }
   ],
   "source": [
    "predictions_tf = model(X_test)\n",
    "predictions_tf[:5]"
   ]
  },
  {
   "cell_type": "code",
   "execution_count": 117,
   "metadata": {},
   "outputs": [
    {
     "data": {
      "text/plain": [
       "(tensorflow.python.framework.ops.EagerTensor, TensorShape([360, 10]))"
      ]
     },
     "execution_count": 117,
     "metadata": {},
     "output_type": "execute_result"
    }
   ],
   "source": [
    "type(predictions_tf), predictions_tf.shape"
   ]
  },
  {
   "cell_type": "markdown",
   "metadata": {},
   "source": [
    "The raw output of the model is a tensor of shape `(360, 10)`. This means that we have 360 samples, and for each sample we have 10 values. Each of these values represents the probability that the sample belongs to a given class. This means that we have 10 probabilities for each sample, and the sum of these probabilities is 1. We can confirm this by summing the probabilities for each sample:"
   ]
  },
  {
   "cell_type": "code",
   "execution_count": 118,
   "metadata": {},
   "outputs": [
    {
     "data": {
      "text/plain": [
       "<tf.Tensor: shape=(5,), dtype=float32, numpy=\n",
       "array([0.9999999, 1.       , 0.9999998, 1.       , 1.       ],\n",
       "      dtype=float32)>"
      ]
     },
     "execution_count": 118,
     "metadata": {},
     "output_type": "execute_result"
    }
   ],
   "source": [
    "import tensorflow as tf\n",
    "\n",
    "tf.reduce_sum(predictions_tf, axis=1)[:5]"
   ]
  },
  {
   "cell_type": "markdown",
   "metadata": {
    "collapsed": false
   },
   "source": [
    "...okay, there might be a small rounding error here and there. This is to do with how floating point numbers are represented in computers, and it's not something we need to worry about for now."
   ]
  },
  {
   "cell_type": "markdown",
   "metadata": {},
   "source": [
    "We can also extract the label with the highest probability using the tensorflow API:"
   ]
  },
  {
   "cell_type": "code",
   "execution_count": 119,
   "metadata": {},
   "outputs": [
    {
     "data": {
      "text/plain": [
       "<tf.Tensor: shape=(5,), dtype=int64, numpy=array([6, 9, 3, 7, 2], dtype=int64)>"
      ]
     },
     "execution_count": 119,
     "metadata": {},
     "output_type": "execute_result"
    }
   ],
   "source": [
    "predicted_labels_tf = tf.argmax(predictions_tf, axis=1)\n",
    "predicted_labels_tf[:5]"
   ]
  },
  {
   "cell_type": "markdown",
   "metadata": {
    "collapsed": false
   },
   "source": [
    "One helpful aspect of this approach is that we don't just get the prediction, but also a sense of how confident the model is in its prediction. To see this in practice, let's take a look at some of the predictions the model is highly confident about (i.e. a lot of the probability mass is on one class):"
   ]
  },
  {
   "cell_type": "code",
   "execution_count": 120,
   "metadata": {
    "collapsed": false
   },
   "outputs": [
    {
     "data": {
      "image/png": "[encoded data removed]",
      "text/plain": [
       "<Figure size 600x600 with 9 Axes>"
      ]
     },
     "metadata": {},
     "output_type": "display_data"
    }
   ],
   "source": [
    "# Get the values corresponding to the predicted labels for each sample\n",
    "predicted_values_tf = tf.reduce_max(predictions_tf, axis=1)\n",
    "\n",
    "# Get the indices of the samples with the highest predicted values\n",
    "most_confident_indices_tf = tf.argsort(predicted_values_tf, direction='DESCENDING').numpy()[:9]\n",
    "\n",
    "# Get the 9 most confident samples\n",
    "most_confident_samples_tf = X_test[most_confident_indices_tf]\n",
    "\n",
    "# Get the true labels for the 9 most confident samples\n",
    "most_confident_labels_tf = np.argmax(y_test[most_confident_indices_tf], axis=1)\n",
    "\n",
    "# Plot the 9 most confident samples\n",
    "fig, axes = plt.subplots(3, 3, figsize=(6, 6))\n",
    "\n",
    "for i, ax in enumerate(axes.flat):\n",
    "    ax.imshow(most_confident_samples_tf[i].reshape(8, 8), cmap=plt.cm.gray_r, interpolation='nearest')\n",
    "    ax.set_title(f\"{most_confident_labels_tf[i]}\")\n",
    "\n",
    "    # Removing axis labels\n",
    "    ax.set_xticks([])\n",
    "    ax.set_yticks([])\n",
    "    \n",
    "plt.show()"
   ]
  },
  {
   "cell_type": "markdown",
   "metadata": {},
   "source": [
    "## Impact of Initialization\n",
    "\n",
    "Let's study the impact of a bad initialization when training\n",
    "a deep feed forward network.\n",
    "\n",
    "By default, Keras dense layers use the \"Glorot Uniform\" initialization\n",
    "strategy to initialize the weight matrices:\n",
    "\n",
    "- each weight coefficient is randomly sampled from [-scale, scale]\n",
    "- scale is proportional to $\\frac{1}{\\sqrt{n_{in} + n_{out}}}$\n",
    "\n",
    "This strategy is known to work well to initialize deep neural networks\n",
    "with \"tanh\" or \"relu\" activation functions and then trained with\n",
    "standard SGD.\n",
    "\n",
    "To assess the impact of initialization let us plug an alternative init\n",
    "scheme into a 2 hidden layers networks with \"tanh\" activations.\n",
    "For the sake of the example let's use normal distributed weights\n",
    "with a manually adjustable scale (standard deviation) and see the\n",
    "impact the scale value:"
   ]
  },
  {
   "cell_type": "code",
   "execution_count": 121,
   "metadata": {},
   "outputs": [],
   "source": [
    "from tensorflow.keras import initializers\n",
    "from tensorflow.keras import optimizers\n",
    "\n",
    "input_dim = 64\n",
    "hidden_dim = 64\n",
    "output_dim = 10\n",
    "\n",
    "normal_init = initializers.TruncatedNormal(stddev=0.01, seed=42) # change this line for questions below\n",
    "\n",
    "model = Sequential()\n",
    "model.add(Dense(hidden_dim, input_dim=input_dim, activation=\"tanh\",\n",
    "                kernel_initializer=normal_init))\n",
    "model.add(Dense(hidden_dim, activation=\"tanh\",\n",
    "                kernel_initializer=normal_init))\n",
    "model.add(Dense(output_dim, activation=\"softmax\",\n",
    "                kernel_initializer=normal_init))\n",
    "\n",
    "model.compile(optimizer=optimizers.SGD(learning_rate=0.1),\n",
    "              loss='categorical_crossentropy', metrics=['accuracy'])"
   ]
  },
  {
   "cell_type": "code",
   "execution_count": 122,
   "metadata": {},
   "outputs": [
    {
     "data": {
      "text/plain": [
       "[<keras.layers.core.dense.Dense at 0x2e3a656f6a0>,\n",
       " <keras.layers.core.dense.Dense at 0x2e3a656fca0>,\n",
       " <keras.layers.core.dense.Dense at 0x2e3a6466a90>]"
      ]
     },
     "execution_count": 122,
     "metadata": {},
     "output_type": "execute_result"
    }
   ],
   "source": [
    "model.layers"
   ]
  },
  {
   "cell_type": "markdown",
   "metadata": {},
   "source": [
    "Let's have a look at the parameters of the first layer after initialization but before any training has happened:"
   ]
  },
  {
   "cell_type": "code",
   "execution_count": 123,
   "metadata": {},
   "outputs": [
    {
     "data": {
      "text/plain": [
       "[<tf.Variable 'dense_95/kernel:0' shape=(64, 64) dtype=float32, numpy=\n",
       " array([[ 0.00015817, -0.01590087,  0.00103594, ...,  0.00962818,\n",
       "          0.00624957,  0.00994726],\n",
       "        [ 0.0081879 ,  0.00756818, -0.00668142, ...,  0.01084459,\n",
       "         -0.00317478, -0.00549116],\n",
       "        [-0.00086618, -0.00287623,  0.00391693, ...,  0.00064558,\n",
       "         -0.00420471,  0.00174566],\n",
       "        ...,\n",
       "        [-0.0029006 , -0.0091218 ,  0.00804327, ..., -0.01407086,\n",
       "          0.00952832, -0.01348555],\n",
       "        [ 0.00375078,  0.00967842,  0.00098119, ..., -0.00413454,\n",
       "          0.01695471,  0.00025196],\n",
       "        [ 0.00459809,  0.01223094, -0.00213172, ...,  0.01246831,\n",
       "         -0.00714749, -0.00868595]], dtype=float32)>,\n",
       " <tf.Variable 'dense_95/bias:0' shape=(64,) dtype=float32, numpy=\n",
       " array([0., 0., 0., 0., 0., 0., 0., 0., 0., 0., 0., 0., 0., 0., 0., 0., 0.,\n",
       "        0., 0., 0., 0., 0., 0., 0., 0., 0., 0., 0., 0., 0., 0., 0., 0., 0.,\n",
       "        0., 0., 0., 0., 0., 0., 0., 0., 0., 0., 0., 0., 0., 0., 0., 0., 0.,\n",
       "        0., 0., 0., 0., 0., 0., 0., 0., 0., 0., 0., 0., 0.], dtype=float32)>]"
      ]
     },
     "execution_count": 123,
     "metadata": {},
     "output_type": "execute_result"
    }
   ],
   "source": [
    "model.layers[0].weights"
   ]
  },
  {
   "cell_type": "code",
   "execution_count": 124,
   "metadata": {},
   "outputs": [
    {
     "data": {
      "text/plain": [
       "array([[ 0.00015817, -0.01590087,  0.00103594, ...,  0.00962818,\n",
       "         0.00624957,  0.00994726],\n",
       "       [ 0.0081879 ,  0.00756818, -0.00668142, ...,  0.01084459,\n",
       "        -0.00317478, -0.00549116],\n",
       "       [-0.00086618, -0.00287623,  0.00391693, ...,  0.00064558,\n",
       "        -0.00420471,  0.00174566],\n",
       "       ...,\n",
       "       [-0.0029006 , -0.0091218 ,  0.00804327, ..., -0.01407086,\n",
       "         0.00952832, -0.01348555],\n",
       "       [ 0.00375078,  0.00967842,  0.00098119, ..., -0.00413454,\n",
       "         0.01695471,  0.00025196],\n",
       "       [ 0.00459809,  0.01223094, -0.00213172, ...,  0.01246831,\n",
       "        -0.00714749, -0.00868595]], dtype=float32)"
      ]
     },
     "execution_count": 124,
     "metadata": {},
     "output_type": "execute_result"
    }
   ],
   "source": [
    "w = model.layers[0].weights[0].numpy()\n",
    "w"
   ]
  },
  {
   "cell_type": "code",
   "execution_count": 125,
   "metadata": {},
   "outputs": [
    {
     "data": {
      "text/plain": [
       "0.008835949"
      ]
     },
     "execution_count": 125,
     "metadata": {},
     "output_type": "execute_result"
    }
   ],
   "source": [
    "w.std()"
   ]
  },
  {
   "cell_type": "code",
   "execution_count": 126,
   "metadata": {},
   "outputs": [
    {
     "data": {
      "text/plain": [
       "array([0., 0., 0., 0., 0., 0., 0., 0., 0., 0., 0., 0., 0., 0., 0., 0., 0.,\n",
       "       0., 0., 0., 0., 0., 0., 0., 0., 0., 0., 0., 0., 0., 0., 0., 0., 0.,\n",
       "       0., 0., 0., 0., 0., 0., 0., 0., 0., 0., 0., 0., 0., 0., 0., 0., 0.,\n",
       "       0., 0., 0., 0., 0., 0., 0., 0., 0., 0., 0., 0., 0.], dtype=float32)"
      ]
     },
     "execution_count": 126,
     "metadata": {},
     "output_type": "execute_result"
    }
   ],
   "source": [
    "b = model.layers[0].weights[1].numpy()\n",
    "b"
   ]
  },
  {
   "cell_type": "code",
   "execution_count": 127,
   "metadata": {},
   "outputs": [
    {
     "name": "stdout",
     "output_type": "stream",
     "text": [
      "Epoch 1/15\n",
      "45/45 [==============================] - 0s 1ms/step - loss: 2.2863 - accuracy: 0.2143\n",
      "Epoch 2/15\n",
      "45/45 [==============================] - 0s 1ms/step - loss: 1.7115 - accuracy: 0.4676\n",
      "Epoch 3/15\n",
      "45/45 [==============================] - 0s 1ms/step - loss: 1.0306 - accuracy: 0.7029\n",
      "Epoch 4/15\n",
      "45/45 [==============================] - 0s 1ms/step - loss: 0.5267 - accuracy: 0.8650\n",
      "Epoch 5/15\n",
      "45/45 [==============================] - 0s 1ms/step - loss: 0.3009 - accuracy: 0.9332\n",
      "Epoch 6/15\n",
      "45/45 [==============================] - 0s 1ms/step - loss: 0.2045 - accuracy: 0.9534\n",
      "Epoch 7/15\n",
      "45/45 [==============================] - 0s 1ms/step - loss: 0.1541 - accuracy: 0.9624\n",
      "Epoch 8/15\n",
      "45/45 [==============================] - 0s 1ms/step - loss: 0.1689 - accuracy: 0.9555\n",
      "Epoch 9/15\n",
      "45/45 [==============================] - 0s 1ms/step - loss: 0.1027 - accuracy: 0.9784\n",
      "Epoch 10/15\n",
      "45/45 [==============================] - 0s 2ms/step - loss: 0.0898 - accuracy: 0.9784\n",
      "Epoch 11/15\n",
      "45/45 [==============================] - 0s 1ms/step - loss: 0.0793 - accuracy: 0.9805\n",
      "Epoch 12/15\n",
      "45/45 [==============================] - 0s 1ms/step - loss: 0.0729 - accuracy: 0.9847\n",
      "Epoch 13/15\n",
      "45/45 [==============================] - 0s 1ms/step - loss: 0.0507 - accuracy: 0.9889\n",
      "Epoch 14/15\n",
      "45/45 [==============================] - 0s 1ms/step - loss: 0.0586 - accuracy: 0.9868\n",
      "Epoch 15/15\n",
      "45/45 [==============================] - 0s 1ms/step - loss: 0.0352 - accuracy: 0.9951\n"
     ]
    },
    {
     "data": {
      "image/png": "[encoded data removed]",
      "text/plain": [
       "<Figure size 1200x400 with 1 Axes>"
      ]
     },
     "metadata": {},
     "output_type": "display_data"
    }
   ],
   "source": [
    "history = model.fit(X_train, y_train, epochs=15, batch_size=32)\n",
    "\n",
    "plt.figure(figsize=(12, 4))\n",
    "plt.plot(history.history['loss'], label=\"Truncated Normal init\")\n",
    "plt.legend();"
   ]
  },
  {
   "cell_type": "markdown",
   "metadata": {},
   "source": [
    "Once the model has been fit, the weights have been updated and notably the biases are no longer 0:"
   ]
  },
  {
   "cell_type": "code",
   "execution_count": 128,
   "metadata": {},
   "outputs": [
    {
     "data": {
      "text/plain": [
       "[<tf.Variable 'dense_95/kernel:0' shape=(64, 64) dtype=float32, numpy=\n",
       " array([[ 1.5817076e-04, -1.5900869e-02,  1.0359446e-03, ...,\n",
       "          9.6281823e-03,  6.2495731e-03,  9.9472618e-03],\n",
       "        [ 1.3812999e-02, -1.0668426e-02, -5.3601372e-03, ...,\n",
       "          1.8526348e-03, -1.4486421e-02, -1.4284608e-02],\n",
       "        [ 4.3999761e-02, -8.3107933e-02, -6.8406127e-02, ...,\n",
       "         -1.0847876e-02, -1.2656766e-01,  1.0210242e-01],\n",
       "        ...,\n",
       "        [ 2.0452466e-02, -3.9458908e-03,  1.7025261e-01, ...,\n",
       "         -8.6371563e-02,  4.6918530e-02, -2.4038379e-01],\n",
       "        [ 2.7520925e-02, -3.1811152e-02,  1.1412021e-01, ...,\n",
       "         -5.2954447e-02, -1.0209552e-02, -1.0392444e-01],\n",
       "        [ 2.4011994e-02,  2.1167550e-02,  5.3571187e-02, ...,\n",
       "          4.3212257e-02,  4.3757875e-02, -5.0954465e-02]], dtype=float32)>,\n",
       " <tf.Variable 'dense_95/bias:0' shape=(64,) dtype=float32, numpy=\n",
       " array([ 1.0638598e-04, -3.8045286e-03,  1.6592864e-03, -4.1997642e-03,\n",
       "        -3.4634804e-03,  2.0902371e-04, -7.3460524e-04, -1.3825329e-04,\n",
       "        -5.7919846e-05, -3.3894752e-03,  3.3079705e-04,  3.9428514e-03,\n",
       "         2.8556150e-03,  5.5518467e-04,  8.6870295e-04, -3.1714389e-04,\n",
       "         4.2845057e-03,  1.2203399e-03, -8.1700122e-04, -4.5768879e-03,\n",
       "         1.9928305e-03, -4.9579015e-04,  2.2456702e-03,  7.7988894e-04,\n",
       "         5.5051921e-03,  3.8104865e-04, -2.8669639e-03,  1.1081569e-03,\n",
       "         2.3268207e-03, -4.8056868e-04,  3.6598633e-03, -6.7932665e-04,\n",
       "         6.9140695e-04,  1.6711402e-03,  1.0611721e-03, -6.9005461e-04,\n",
       "        -1.2365372e-03, -3.1301551e-03, -6.7330652e-04, -1.7391669e-03,\n",
       "         2.0341149e-03, -2.4409333e-04,  1.9174482e-03,  3.5239095e-04,\n",
       "         2.4122442e-03,  5.5668806e-03,  6.1197234e-03, -2.2643625e-03,\n",
       "         1.1008398e-03,  1.7709992e-03,  4.2465171e-03,  1.4671156e-03,\n",
       "        -4.3052621e-03, -4.2299641e-04, -5.9584454e-03, -2.8449830e-03,\n",
       "         3.2228774e-03,  1.1184034e-03,  2.7458214e-03,  1.3045220e-03,\n",
       "         1.5210842e-03,  1.1631339e-03, -3.4665118e-03,  1.2665078e-03],\n",
       "       dtype=float32)>]"
      ]
     },
     "execution_count": 128,
     "metadata": {},
     "output_type": "execute_result"
    }
   ],
   "source": [
    "model.layers[0].weights"
   ]
  },
  {
   "cell_type": "markdown",
   "metadata": {},
   "source": [
    "#### Questions:\n",
    "\n",
    "- Try the following initialization schemes and see whether\n",
    "  the SGD algorithm can successfully train the network or\n",
    "  not:\n",
    "  \n",
    "  - a very small e.g. `stddev=1e-3`\n",
    "\n",
    "Can train network but extremely slow and require more epochs\n",
    "\n",
    "  - a larger scale e.g. `stddev=1` or `10`\n",
    "\n",
    "Can train network but not well.\n",
    "\n",
    "  - initialize all weights to 0 (constant initialization)\n",
    "\n",
    " Cannot train network with weights at 0 \n",
    "  \n",
    "- What do you observe? Can you find an explanation for those\n",
    "  outcomes?\n",
    "\n",
    "- Are more advanced solvers such as SGD with momentum or Adam able\n",
    "  to deal better with such bad initializations?"
   ]
  },
  {
   "cell_type": "code",
   "execution_count": 129,
   "metadata": {},
   "outputs": [
    {
     "name": "stdout",
     "output_type": "stream",
     "text": [
      "Epoch 1/15\n",
      "45/45 [==============================] - 0s 2ms/step - loss: 2.3037 - accuracy: 0.0939\n",
      "Epoch 2/15\n",
      "45/45 [==============================] - 0s 1ms/step - loss: 2.3033 - accuracy: 0.1044\n",
      "Epoch 3/15\n",
      "45/45 [==============================] - 0s 1ms/step - loss: 2.3031 - accuracy: 0.1065\n",
      "Epoch 4/15\n",
      "45/45 [==============================] - 0s 1ms/step - loss: 2.3032 - accuracy: 0.1037\n",
      "Epoch 5/15\n",
      "45/45 [==============================] - 0s 2ms/step - loss: 2.3032 - accuracy: 0.1023\n",
      "Epoch 6/15\n",
      "45/45 [==============================] - 0s 2ms/step - loss: 2.3033 - accuracy: 0.1051\n",
      "Epoch 7/15\n",
      "45/45 [==============================] - 0s 2ms/step - loss: 2.3031 - accuracy: 0.1072\n",
      "Epoch 8/15\n",
      "45/45 [==============================] - 0s 1ms/step - loss: 2.3031 - accuracy: 0.0974\n",
      "Epoch 9/15\n",
      "45/45 [==============================] - 0s 1ms/step - loss: 2.3017 - accuracy: 0.1072\n",
      "Epoch 10/15\n",
      "45/45 [==============================] - 0s 2ms/step - loss: 2.1081 - accuracy: 0.1761\n",
      "Epoch 11/15\n",
      "45/45 [==============================] - 0s 1ms/step - loss: 1.8167 - accuracy: 0.2136\n",
      "Epoch 12/15\n",
      "45/45 [==============================] - 0s 1ms/step - loss: 1.6217 - accuracy: 0.2763\n",
      "Epoch 13/15\n",
      "45/45 [==============================] - 0s 1ms/step - loss: 1.4093 - accuracy: 0.3459\n",
      "Epoch 14/15\n",
      "45/45 [==============================] - 0s 2ms/step - loss: 1.3061 - accuracy: 0.4509\n",
      "Epoch 15/15\n",
      "45/45 [==============================] - 0s 2ms/step - loss: 1.0583 - accuracy: 0.5922\n"
     ]
    },
    {
     "data": {
      "image/png": "[encoded data removed]",
      "text/plain": [
       "<Figure size 1200x400 with 1 Axes>"
      ]
     },
     "metadata": {},
     "output_type": "display_data"
    }
   ],
   "source": [
    "# very small stdev = 1e-3\n",
    "\n",
    "from tensorflow.keras import initializers\n",
    "from tensorflow.keras import optimizers\n",
    "\n",
    "input_dim = 64\n",
    "hidden_dim = 64\n",
    "output_dim = 10\n",
    "\n",
    "normal_init = initializers.TruncatedNormal(stddev=0.001, seed=42)\n",
    "\n",
    "model = Sequential()\n",
    "model.add(Dense(hidden_dim, input_dim=input_dim, activation=\"tanh\",\n",
    "                kernel_initializer=normal_init))\n",
    "model.add(Dense(hidden_dim, activation=\"tanh\",\n",
    "                kernel_initializer=normal_init))\n",
    "model.add(Dense(output_dim, activation=\"softmax\",\n",
    "                kernel_initializer=normal_init))\n",
    "\n",
    "model.compile(optimizer=optimizers.legacy.SGD(learning_rate=0.1),\n",
    "              loss='categorical_crossentropy', metrics=['accuracy'])\n",
    "\n",
    "history = model.fit(X_train, y_train, epochs=15, batch_size=32)\n",
    "\n",
    "plt.figure(figsize=(12, 4))\n",
    "plt.plot(history.history['loss'], label=\"Truncated Normal init\")\n",
    "plt.legend();"
   ]
  },
  {
   "cell_type": "code",
   "execution_count": 132,
   "metadata": {},
   "outputs": [
    {
     "name": "stdout",
     "output_type": "stream",
     "text": [
      "Epoch 1/15\n",
      "45/45 [==============================] - 0s 1ms/step - loss: 84.3437 - accuracy: 0.1232\n",
      "Epoch 2/15\n",
      "45/45 [==============================] - 0s 1ms/step - loss: 62.6773 - accuracy: 0.1357\n",
      "Epoch 3/15\n",
      "45/45 [==============================] - 0s 1ms/step - loss: 50.4211 - accuracy: 0.1406\n",
      "Epoch 4/15\n",
      "45/45 [==============================] - 0s 1ms/step - loss: 43.6142 - accuracy: 0.1642\n",
      "Epoch 5/15\n",
      "45/45 [==============================] - 0s 1ms/step - loss: 30.4572 - accuracy: 0.1816\n",
      "Epoch 6/15\n",
      "45/45 [==============================] - 0s 1ms/step - loss: 26.3220 - accuracy: 0.2116\n",
      "Epoch 7/15\n",
      "45/45 [==============================] - 0s 1ms/step - loss: 23.1623 - accuracy: 0.2561\n",
      "Epoch 8/15\n",
      "45/45 [==============================] - 0s 1ms/step - loss: 21.4939 - accuracy: 0.2561\n",
      "Epoch 9/15\n",
      "45/45 [==============================] - 0s 1ms/step - loss: 17.3741 - accuracy: 0.2930\n",
      "Epoch 10/15\n",
      "45/45 [==============================] - 0s 1ms/step - loss: 17.9925 - accuracy: 0.2443\n",
      "Epoch 11/15\n",
      "45/45 [==============================] - 0s 1ms/step - loss: 13.1315 - accuracy: 0.2387\n",
      "Epoch 12/15\n",
      "45/45 [==============================] - 0s 1ms/step - loss: 10.4913 - accuracy: 0.2192\n",
      "Epoch 13/15\n",
      "45/45 [==============================] - 0s 1ms/step - loss: 9.8102 - accuracy: 0.2067\n",
      "Epoch 14/15\n",
      "45/45 [==============================] - 0s 1ms/step - loss: 8.3578 - accuracy: 0.2415\n",
      "Epoch 15/15\n",
      "45/45 [==============================] - 0s 1ms/step - loss: 10.1893 - accuracy: 0.2401\n"
     ]
    },
    {
     "data": {
      "image/png": "[encoded data removed]",
      "text/plain": [
       "<Figure size 1200x400 with 1 Axes>"
      ]
     },
     "metadata": {},
     "output_type": "display_data"
    }
   ],
   "source": [
    "# large stdev = 10\n",
    "from tensorflow.keras import initializers\n",
    "from tensorflow.keras import optimizers\n",
    "\n",
    "input_dim = 64\n",
    "hidden_dim = 64\n",
    "output_dim = 10\n",
    "\n",
    "normal_init = initializers.TruncatedNormal(stddev=10, seed=42)\n",
    "\n",
    "model = Sequential()\n",
    "model.add(Dense(hidden_dim, input_dim=input_dim, activation=\"tanh\",\n",
    "                kernel_initializer=normal_init))\n",
    "model.add(Dense(hidden_dim, activation=\"tanh\",\n",
    "                kernel_initializer=normal_init))\n",
    "model.add(Dense(output_dim, activation=\"softmax\",\n",
    "                kernel_initializer=normal_init))\n",
    "\n",
    "model.compile(optimizer=optimizers.legacy.SGD(learning_rate=0.1),\n",
    "              loss='categorical_crossentropy', metrics=['accuracy'])\n",
    "\n",
    "history = model.fit(X_train, y_train, epochs=15, batch_size=32)\n",
    "\n",
    "plt.figure(figsize=(12, 4))\n",
    "plt.plot(history.history['loss'], label=\"Truncated Normal init\")\n",
    "plt.legend();"
   ]
  },
  {
   "cell_type": "code",
   "execution_count": 133,
   "metadata": {},
   "outputs": [
    {
     "name": "stdout",
     "output_type": "stream",
     "text": [
      "Epoch 1/15\n",
      "36/36 [==============================] - 1s 8ms/step - loss: 2.3027 - accuracy: 0.0844 - val_loss: 2.3028 - val_accuracy: 0.1076\n",
      "Epoch 2/15\n",
      "36/36 [==============================] - 0s 2ms/step - loss: 2.3025 - accuracy: 0.0870 - val_loss: 2.3030 - val_accuracy: 0.1076\n",
      "Epoch 3/15\n",
      "36/36 [==============================] - 0s 2ms/step - loss: 2.3024 - accuracy: 0.1001 - val_loss: 2.3031 - val_accuracy: 0.1076\n",
      "Epoch 4/15\n",
      "36/36 [==============================] - 0s 2ms/step - loss: 2.3023 - accuracy: 0.0992 - val_loss: 2.3033 - val_accuracy: 0.1076\n",
      "Epoch 5/15\n",
      "36/36 [==============================] - 0s 2ms/step - loss: 2.3022 - accuracy: 0.1070 - val_loss: 2.3035 - val_accuracy: 0.1076\n",
      "Epoch 6/15\n",
      "36/36 [==============================] - 0s 2ms/step - loss: 2.3021 - accuracy: 0.1010 - val_loss: 2.3037 - val_accuracy: 0.1076\n",
      "Epoch 7/15\n",
      "36/36 [==============================] - 0s 2ms/step - loss: 2.3020 - accuracy: 0.0914 - val_loss: 2.3038 - val_accuracy: 0.1076\n",
      "Epoch 8/15\n",
      "36/36 [==============================] - 0s 4ms/step - loss: 2.3019 - accuracy: 0.1036 - val_loss: 2.3040 - val_accuracy: 0.1076\n",
      "Epoch 9/15\n",
      "36/36 [==============================] - 0s 2ms/step - loss: 2.3018 - accuracy: 0.1070 - val_loss: 2.3041 - val_accuracy: 0.1076\n",
      "Epoch 10/15\n",
      "36/36 [==============================] - 0s 2ms/step - loss: 2.3018 - accuracy: 0.1070 - val_loss: 2.3043 - val_accuracy: 0.1076\n",
      "Epoch 11/15\n",
      "36/36 [==============================] - 0s 2ms/step - loss: 2.3017 - accuracy: 0.1044 - val_loss: 2.3045 - val_accuracy: 0.1076\n",
      "Epoch 12/15\n",
      "36/36 [==============================] - 0s 2ms/step - loss: 2.3017 - accuracy: 0.1070 - val_loss: 2.3046 - val_accuracy: 0.1076\n",
      "Epoch 13/15\n",
      "36/36 [==============================] - 0s 2ms/step - loss: 2.3016 - accuracy: 0.1070 - val_loss: 2.3048 - val_accuracy: 0.1076\n",
      "Epoch 14/15\n",
      "36/36 [==============================] - 0s 2ms/step - loss: 2.3015 - accuracy: 0.1070 - val_loss: 2.3049 - val_accuracy: 0.1076\n",
      "Epoch 15/15\n",
      "36/36 [==============================] - 0s 2ms/step - loss: 2.3015 - accuracy: 0.1070 - val_loss: 2.3050 - val_accuracy: 0.1076\n"
     ]
    },
    {
     "data": {
      "image/png": "[encoded data removed]",
      "text/plain": [
       "<Figure size 1200x400 with 1 Axes>"
      ]
     },
     "metadata": {},
     "output_type": "display_data"
    }
   ],
   "source": [
    "# initialize all weights to 0 (constant initialization)\n",
    "\n",
    "zero_init = initializers.Zeros\n",
    "\n",
    "model = Sequential()\n",
    "model.add(Dense(hidden_dim, input_dim=input_dim, activation=\"tanh\",\n",
    "                kernel_initializer=zero_init))\n",
    "model.add(Dense(hidden_dim, activation=\"tanh\",\n",
    "                kernel_initializer=zero_init))\n",
    "model.add(Dense(output_dim, activation=\"softmax\",\n",
    "                kernel_initializer=zero_init))\n",
    "\n",
    "model.compile(optimizer=optimizers.legacy.SGD(learning_rate=0.01),\n",
    "              loss='categorical_crossentropy', metrics=['accuracy'])\n",
    "\n",
    "history = model.fit(X_train, y_train, epochs=15, batch_size=32, validation_split=0.2)\n",
    "\n",
    "plt.figure(figsize=(12, 4))\n",
    "plt.plot(history.history['loss'], label=\"Truncated Normal init\")\n",
    "plt.legend();"
   ]
  }
 ],
 "metadata": {
  "file_extension": ".py",
  "kernelspec": {
   "display_name": "Python 3 (ipykernel)",
   "language": "python",
   "name": "python3"
  },
  "language_info": {
   "codemirror_mode": {
    "name": "ipython",
    "version": 3
   },
   "file_extension": ".py",
   "mimetype": "text/x-python",
   "name": "python",
   "nbconvert_exporter": "python",
   "pygments_lexer": "ipython3",
   "version": "3.9.15"
  },
  "mimetype": "text/x-python",
  "name": "python",
  "npconvert_exporter": "python",
  "pygments_lexer": "ipython3",
  "toc": {
   "base_numbering": 1,
   "nav_menu": {},
   "number_sections": true,
   "sideBar": true,
   "skip_h1_title": false,
   "title_cell": "Table of Contents",
   "title_sidebar": "Contents",
   "toc_cell": false,
   "toc_position": {},
   "toc_section_display": true,
   "toc_window_display": false
  },
  "version": 3
 },
 "nbformat": 4,
 "nbformat_minor": 4
}
